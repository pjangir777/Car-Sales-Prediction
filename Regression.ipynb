{
 "cells": [
  {
   "cell_type": "code",
   "execution_count": 2,
   "metadata": {},
   "outputs": [],
   "source": [
    "#What are the key factor which drive the sale of the Car"
   ]
  },
  {
   "cell_type": "code",
   "execution_count": 3,
   "metadata": {},
   "outputs": [],
   "source": [
    "import pandas as pd\n",
    "import numpy as np\n",
    "import os \n",
    "import matplotlib.pyplot as plt"
   ]
  },
  {
   "cell_type": "code",
   "execution_count": 4,
   "metadata": {},
   "outputs": [],
   "source": [
    "os.chdir(\"C:\\\\Users\\\\Admin\\\\Desktop\\\\Training\\\\DSP31\\\\Python\\\\Linear\")"
   ]
  },
  {
   "cell_type": "code",
   "execution_count": 5,
   "metadata": {},
   "outputs": [
    {
     "data": {
      "text/plain": [
       "'C:\\\\Users\\\\Admin\\\\Desktop\\\\Training\\\\DSP31\\\\Python\\\\Linear'"
      ]
     },
     "execution_count": 5,
     "metadata": {},
     "output_type": "execute_result"
    }
   ],
   "source": [
    "os.getcwd()"
   ]
  },
  {
   "cell_type": "code",
   "execution_count": 6,
   "metadata": {},
   "outputs": [
    {
     "data": {
      "text/plain": [
       "['car_sales.csv',\n",
       " 'Corr.csv',\n",
       " 'cs229-notes1.pdf',\n",
       " 'Df3Predicted.xlsx',\n",
       " 'lin.txt',\n",
       " 'lin2.txt',\n",
       " 'Out.csv',\n",
       " 'Outlier.csv']"
      ]
     },
     "execution_count": 6,
     "metadata": {},
     "output_type": "execute_result"
    }
   ],
   "source": [
    "os.listdir()"
   ]
  },
  {
   "cell_type": "code",
   "execution_count": 7,
   "metadata": {},
   "outputs": [],
   "source": [
    "df=pd.read_csv('car_sales.csv')"
   ]
  },
  {
   "cell_type": "code",
   "execution_count": 8,
   "metadata": {},
   "outputs": [],
   "source": [
    "#f,ax=plt.subplots(figsize=(9,8))\n",
    "#sns.heatmap(corrmT, ax=ax,cmap=\"Y1GnBu\", linewidths=0.1)"
   ]
  },
  {
   "cell_type": "code",
   "execution_count": 9,
   "metadata": {},
   "outputs": [
    {
     "data": {
      "text/plain": [
       "Index(['Manufacturer', 'Model', 'Sales_in_thousands', '__year_resale_value',\n",
       "       'Vehicle_type', 'Price_in_thousands', 'Engine_size', 'Horsepower',\n",
       "       'Wheelbase', 'Width', 'Length', 'Curb_weight', 'Fuel_capacity',\n",
       "       'Fuel_efficiency', 'Latest_Launch', 'Unnamed: 15', 'Unnamed: 16',\n",
       "       'Unnamed: 17', 'Unnamed: 18', 'Unnamed: 19', 'Unnamed: 20',\n",
       "       'Unnamed: 21', 'Unnamed: 22', 'Unnamed: 23', 'Unnamed: 24',\n",
       "       'Unnamed: 25', 'Unnamed: 26', 'Vehicle_type.1', 'Price_in_thousands.1',\n",
       "       'Engine_size.1', 'Horsepower.1', 'Wheelbase.1', 'Width.1', 'Length.1',\n",
       "       'Curb_weight.1', 'Fuel_capacity.1', 'Fuel_efficiency.1'],\n",
       "      dtype='object')"
      ]
     },
     "execution_count": 9,
     "metadata": {},
     "output_type": "execute_result"
    }
   ],
   "source": [
    "df.columns"
   ]
  },
  {
   "cell_type": "code",
   "execution_count": 10,
   "metadata": {},
   "outputs": [
    {
     "data": {
      "text/plain": [
       "Unnamed: 18             157\n",
       "Unnamed: 22             157\n",
       "Unnamed: 15             157\n",
       "Unnamed: 16             157\n",
       "Unnamed: 17             157\n",
       "Unnamed: 19             157\n",
       "Unnamed: 20             157\n",
       "Fuel_capacity.1         156\n",
       "Unnamed: 21             156\n",
       "Fuel_efficiency.1       156\n",
       "Vehicle_type.1          156\n",
       "Engine_size.1           156\n",
       "Horsepower.1            156\n",
       "Wheelbase.1             156\n",
       "Width.1                 156\n",
       "Length.1                156\n",
       "Curb_weight.1           156\n",
       "Price_in_thousands.1    155\n",
       "Unnamed: 25             153\n",
       "Unnamed: 24             151\n",
       "Unnamed: 23             151\n",
       "Unnamed: 26             150\n",
       "__year_resale_value      36\n",
       "Fuel_efficiency           3\n",
       "Curb_weight               2\n",
       "Price_in_thousands        2\n",
       "Fuel_capacity             1\n",
       "Length                    1\n",
       "Width                     1\n",
       "Wheelbase                 1\n",
       "Horsepower                1\n",
       "Engine_size               1\n",
       "Vehicle_type              0\n",
       "Latest_Launch             0\n",
       "Sales_in_thousands        0\n",
       "Model                     0\n",
       "Manufacturer              0\n",
       "dtype: int64"
      ]
     },
     "execution_count": 10,
     "metadata": {},
     "output_type": "execute_result"
    }
   ],
   "source": [
    "df.isnull().sum().sort_values(ascending=False)"
   ]
  },
  {
   "cell_type": "code",
   "execution_count": 11,
   "metadata": {},
   "outputs": [],
   "source": [
    "df1=df.drop(columns=[\"Manufacturer\", \"Model\", \"Latest_Launch\", 'Unnamed: 15', 'Unnamed: 16',\n",
    "       'Unnamed: 17', 'Unnamed: 18', 'Unnamed: 19', 'Unnamed: 20',\n",
    "       'Unnamed: 21', 'Unnamed: 22', 'Unnamed: 23', 'Unnamed: 24',\n",
    "       'Unnamed: 25', 'Unnamed: 26', 'Vehicle_type.1', 'Price_in_thousands.1',\n",
    "       'Engine_size.1', 'Horsepower.1', 'Wheelbase.1', 'Width.1', 'Length.1',\n",
    "       'Curb_weight.1', 'Fuel_capacity.1', 'Fuel_efficiency.1'], axis=1)"
   ]
  },
  {
   "cell_type": "code",
   "execution_count": 12,
   "metadata": {},
   "outputs": [
    {
     "data": {
      "text/plain": [
       "Index(['Sales_in_thousands', '__year_resale_value', 'Vehicle_type',\n",
       "       'Price_in_thousands', 'Engine_size', 'Horsepower', 'Wheelbase', 'Width',\n",
       "       'Length', 'Curb_weight', 'Fuel_capacity', 'Fuel_efficiency'],\n",
       "      dtype='object')"
      ]
     },
     "execution_count": 12,
     "metadata": {},
     "output_type": "execute_result"
    }
   ],
   "source": [
    "df1.columns"
   ]
  },
  {
   "cell_type": "code",
   "execution_count": 13,
   "metadata": {},
   "outputs": [
    {
     "data": {
      "image/png": "[encoded data removed]",
      "text/plain": [
       "<Figure size 432x288 with 1 Axes>"
      ]
     },
     "metadata": {
      "needs_background": "light"
     },
     "output_type": "display_data"
    }
   ],
   "source": [
    "plt.scatter(df1[\"Sales_in_thousands\"], df1[\"__year_resale_value\"])\n",
    "plt.xlabel(\"Sale\")\n",
    "plt.ylabel(\"Resale\")\n",
    "plt.show()"
   ]
  },
  {
   "cell_type": "code",
   "execution_count": 14,
   "metadata": {},
   "outputs": [
    {
     "data": {
      "image/png": "[encoded data removed]",
      "text/plain": [
       "<Figure size 432x288 with 1 Axes>"
      ]
     },
     "metadata": {
      "needs_background": "light"
     },
     "output_type": "display_data"
    }
   ],
   "source": [
    "plt.scatter(df1[\"Sales_in_thousands\"], df1[\"Price_in_thousands\"])\n",
    "plt.xlabel(\"Sale\")\n",
    "plt.ylabel(\"Price_in_thousands\")\n",
    "plt.show()"
   ]
  },
  {
   "cell_type": "code",
   "execution_count": 15,
   "metadata": {},
   "outputs": [
    {
     "data": {
      "image/png": "[encoded data removed]",
      "text/plain": [
       "<Figure size 432x288 with 1 Axes>"
      ]
     },
     "metadata": {
      "needs_background": "light"
     },
     "output_type": "display_data"
    }
   ],
   "source": [
    "plt.scatter(df1[\"Sales_in_thousands\"], df1[\"Engine_size\"])\n",
    "plt.xlabel(\"Sale\")\n",
    "plt.ylabel(\"Engine_size\")\n",
    "plt.show()"
   ]
  },
  {
   "cell_type": "code",
   "execution_count": 16,
   "metadata": {},
   "outputs": [
    {
     "data": {
      "image/png": "[encoded data removed]",
      "text/plain": [
       "<Figure size 432x288 with 1 Axes>"
      ]
     },
     "metadata": {
      "needs_background": "light"
     },
     "output_type": "display_data"
    }
   ],
   "source": [
    "plt.scatter(df1[\"Sales_in_thousands\"], df1[\"Horsepower\"])\n",
    "plt.xlabel(\"Sale\")\n",
    "plt.ylabel(\"Horsepower\")\n",
    "plt.show()"
   ]
  },
  {
   "cell_type": "code",
   "execution_count": 17,
   "metadata": {},
   "outputs": [
    {
     "data": {
      "image/png": "[encoded data removed]",
      "text/plain": [
       "<Figure size 432x288 with 1 Axes>"
      ]
     },
     "metadata": {
      "needs_background": "light"
     },
     "output_type": "display_data"
    }
   ],
   "source": [
    "plt.scatter(df1[\"Sales_in_thousands\"], df1[\"Wheelbase\"])\n",
    "plt.xlabel(\"Sale\")\n",
    "plt.ylabel(\"Wheelbase\")\n",
    "plt.show()"
   ]
  },
  {
   "cell_type": "code",
   "execution_count": 18,
   "metadata": {},
   "outputs": [
    {
     "data": {
      "image/png": "[encoded data removed]",
      "text/plain": [
       "<Figure size 432x288 with 1 Axes>"
      ]
     },
     "metadata": {
      "needs_background": "light"
     },
     "output_type": "display_data"
    }
   ],
   "source": [
    "plt.scatter(df1[\"Sales_in_thousands\"], df1[\"Width\"])\n",
    "plt.xlabel(\"Sale\")\n",
    "plt.ylabel(\"Width\")\n",
    "plt.show()"
   ]
  },
  {
   "cell_type": "code",
   "execution_count": 19,
   "metadata": {},
   "outputs": [
    {
     "data": {
      "image/png": "[encoded data removed]",
      "text/plain": [
       "<Figure size 432x288 with 1 Axes>"
      ]
     },
     "metadata": {
      "needs_background": "light"
     },
     "output_type": "display_data"
    }
   ],
   "source": [
    "plt.scatter(df1[\"Sales_in_thousands\"], df1[\"Length\"])\n",
    "plt.xlabel(\"Sale\")\n",
    "plt.ylabel(\"Length\")\n",
    "plt.show()"
   ]
  },
  {
   "cell_type": "code",
   "execution_count": 20,
   "metadata": {},
   "outputs": [
    {
     "data": {
      "image/png": "[encoded data removed]",
      "text/plain": [
       "<Figure size 432x288 with 1 Axes>"
      ]
     },
     "metadata": {
      "needs_background": "light"
     },
     "output_type": "display_data"
    }
   ],
   "source": [
    "plt.scatter(df1[\"Price_in_thousands\"], df1[\"__year_resale_value\"])\n",
    "plt.xlabel(\"Price_in_thousands\")\n",
    "plt.ylabel(\"Resale\")\n",
    "plt.show()"
   ]
  },
  {
   "cell_type": "code",
   "execution_count": 21,
   "metadata": {},
   "outputs": [],
   "source": [
    "# Outlier and Missing Value Treatment"
   ]
  },
  {
   "cell_type": "code",
   "execution_count": 22,
   "metadata": {},
   "outputs": [
    {
     "data": {
      "text/html": [
       "<div>\n",
       "<style scoped>\n",
       "    .dataframe tbody tr th:only-of-type {\n",
       "        vertical-align: middle;\n",
       "    }\n",
       "\n",
       "    .dataframe tbody tr th {\n",
       "        vertical-align: top;\n",
       "    }\n",
       "\n",
       "    .dataframe thead th {\n",
       "        text-align: right;\n",
       "    }\n",
       "</style>\n",
       "<table border=\"1\" class=\"dataframe\">\n",
       "  <thead>\n",
       "    <tr style=\"text-align: right;\">\n",
       "      <th></th>\n",
       "      <th>Sales_in_thousands</th>\n",
       "      <th>__year_resale_value</th>\n",
       "      <th>Price_in_thousands</th>\n",
       "      <th>Engine_size</th>\n",
       "      <th>Horsepower</th>\n",
       "      <th>Wheelbase</th>\n",
       "      <th>Width</th>\n",
       "      <th>Length</th>\n",
       "      <th>Curb_weight</th>\n",
       "      <th>Fuel_capacity</th>\n",
       "      <th>Fuel_efficiency</th>\n",
       "    </tr>\n",
       "  </thead>\n",
       "  <tbody>\n",
       "    <tr>\n",
       "      <td>count</td>\n",
       "      <td>157.000000</td>\n",
       "      <td>121.000000</td>\n",
       "      <td>155.000000</td>\n",
       "      <td>156.000000</td>\n",
       "      <td>156.000000</td>\n",
       "      <td>156.000000</td>\n",
       "      <td>156.000000</td>\n",
       "      <td>156.000000</td>\n",
       "      <td>155.000000</td>\n",
       "      <td>156.000000</td>\n",
       "      <td>154.000000</td>\n",
       "    </tr>\n",
       "    <tr>\n",
       "      <td>mean</td>\n",
       "      <td>52.998076</td>\n",
       "      <td>18.072975</td>\n",
       "      <td>27.390755</td>\n",
       "      <td>3.060897</td>\n",
       "      <td>185.948718</td>\n",
       "      <td>107.487179</td>\n",
       "      <td>71.150000</td>\n",
       "      <td>187.343590</td>\n",
       "      <td>3.378026</td>\n",
       "      <td>17.951923</td>\n",
       "      <td>23.844156</td>\n",
       "    </tr>\n",
       "    <tr>\n",
       "      <td>std</td>\n",
       "      <td>68.029422</td>\n",
       "      <td>11.453384</td>\n",
       "      <td>14.351653</td>\n",
       "      <td>1.044653</td>\n",
       "      <td>56.700321</td>\n",
       "      <td>7.641303</td>\n",
       "      <td>3.451872</td>\n",
       "      <td>13.431754</td>\n",
       "      <td>0.630502</td>\n",
       "      <td>3.887921</td>\n",
       "      <td>4.282706</td>\n",
       "    </tr>\n",
       "    <tr>\n",
       "      <td>min</td>\n",
       "      <td>0.110000</td>\n",
       "      <td>5.160000</td>\n",
       "      <td>9.235000</td>\n",
       "      <td>1.000000</td>\n",
       "      <td>55.000000</td>\n",
       "      <td>92.600000</td>\n",
       "      <td>62.600000</td>\n",
       "      <td>149.400000</td>\n",
       "      <td>1.895000</td>\n",
       "      <td>10.300000</td>\n",
       "      <td>15.000000</td>\n",
       "    </tr>\n",
       "    <tr>\n",
       "      <td>25%</td>\n",
       "      <td>14.114000</td>\n",
       "      <td>11.260000</td>\n",
       "      <td>18.017500</td>\n",
       "      <td>2.300000</td>\n",
       "      <td>149.500000</td>\n",
       "      <td>103.000000</td>\n",
       "      <td>68.400000</td>\n",
       "      <td>177.575000</td>\n",
       "      <td>2.971000</td>\n",
       "      <td>15.800000</td>\n",
       "      <td>21.000000</td>\n",
       "    </tr>\n",
       "    <tr>\n",
       "      <td>50%</td>\n",
       "      <td>29.450000</td>\n",
       "      <td>14.180000</td>\n",
       "      <td>22.799000</td>\n",
       "      <td>3.000000</td>\n",
       "      <td>177.500000</td>\n",
       "      <td>107.000000</td>\n",
       "      <td>70.550000</td>\n",
       "      <td>187.900000</td>\n",
       "      <td>3.342000</td>\n",
       "      <td>17.200000</td>\n",
       "      <td>24.000000</td>\n",
       "    </tr>\n",
       "    <tr>\n",
       "      <td>75%</td>\n",
       "      <td>67.956000</td>\n",
       "      <td>19.875000</td>\n",
       "      <td>31.947500</td>\n",
       "      <td>3.575000</td>\n",
       "      <td>215.000000</td>\n",
       "      <td>112.200000</td>\n",
       "      <td>73.425000</td>\n",
       "      <td>196.125000</td>\n",
       "      <td>3.799500</td>\n",
       "      <td>19.575000</td>\n",
       "      <td>26.000000</td>\n",
       "    </tr>\n",
       "    <tr>\n",
       "      <td>max</td>\n",
       "      <td>540.561000</td>\n",
       "      <td>67.550000</td>\n",
       "      <td>85.500000</td>\n",
       "      <td>8.000000</td>\n",
       "      <td>450.000000</td>\n",
       "      <td>138.700000</td>\n",
       "      <td>79.900000</td>\n",
       "      <td>224.500000</td>\n",
       "      <td>5.572000</td>\n",
       "      <td>32.000000</td>\n",
       "      <td>45.000000</td>\n",
       "    </tr>\n",
       "  </tbody>\n",
       "</table>\n",
       "</div>"
      ],
      "text/plain": [
       "       Sales_in_thousands  __year_resale_value  Price_in_thousands  \\\n",
       "count          157.000000           121.000000          155.000000   \n",
       "mean            52.998076            18.072975           27.390755   \n",
       "std             68.029422            11.453384           14.351653   \n",
       "min              0.110000             5.160000            9.235000   \n",
       "25%             14.114000            11.260000           18.017500   \n",
       "50%             29.450000            14.180000           22.799000   \n",
       "75%             67.956000            19.875000           31.947500   \n",
       "max            540.561000            67.550000           85.500000   \n",
       "\n",
       "       Engine_size  Horsepower   Wheelbase       Width      Length  \\\n",
       "count   156.000000  156.000000  156.000000  156.000000  156.000000   \n",
       "mean      3.060897  185.948718  107.487179   71.150000  187.343590   \n",
       "std       1.044653   56.700321    7.641303    3.451872   13.431754   \n",
       "min       1.000000   55.000000   92.600000   62.600000  149.400000   \n",
       "25%       2.300000  149.500000  103.000000   68.400000  177.575000   \n",
       "50%       3.000000  177.500000  107.000000   70.550000  187.900000   \n",
       "75%       3.575000  215.000000  112.200000   73.425000  196.125000   \n",
       "max       8.000000  450.000000  138.700000   79.900000  224.500000   \n",
       "\n",
       "       Curb_weight  Fuel_capacity  Fuel_efficiency  \n",
       "count   155.000000     156.000000       154.000000  \n",
       "mean      3.378026      17.951923        23.844156  \n",
       "std       0.630502       3.887921         4.282706  \n",
       "min       1.895000      10.300000        15.000000  \n",
       "25%       2.971000      15.800000        21.000000  \n",
       "50%       3.342000      17.200000        24.000000  \n",
       "75%       3.799500      19.575000        26.000000  \n",
       "max       5.572000      32.000000        45.000000  "
      ]
     },
     "execution_count": 22,
     "metadata": {},
     "output_type": "execute_result"
    }
   ],
   "source": [
    "df1.describe()"
   ]
  },
  {
   "cell_type": "code",
   "execution_count": 23,
   "metadata": {},
   "outputs": [],
   "source": [
    "Outliers=df1.describe(percentiles=[.01,.05,.1,.2,.25,.5,.75,.90,.95,.99]).T"
   ]
  },
  {
   "cell_type": "code",
   "execution_count": 24,
   "metadata": {},
   "outputs": [],
   "source": [
    "Outliers.to_csv(\"Outlier.csv\")"
   ]
  },
  {
   "cell_type": "code",
   "execution_count": 25,
   "metadata": {},
   "outputs": [
    {
     "data": {
      "text/plain": [
       "(157, 12)"
      ]
     },
     "execution_count": 25,
     "metadata": {},
     "output_type": "execute_result"
    }
   ],
   "source": [
    "df1.shape"
   ]
  },
  {
   "cell_type": "code",
   "execution_count": 26,
   "metadata": {},
   "outputs": [
    {
     "data": {
      "text/plain": [
       "Sales_in_thousands      0\n",
       "__year_resale_value    36\n",
       "Vehicle_type            0\n",
       "Price_in_thousands      2\n",
       "Engine_size             1\n",
       "Horsepower              1\n",
       "Wheelbase               1\n",
       "Width                   1\n",
       "Length                  1\n",
       "Curb_weight             2\n",
       "Fuel_capacity           1\n",
       "Fuel_efficiency         3\n",
       "dtype: int64"
      ]
     },
     "execution_count": 26,
     "metadata": {},
     "output_type": "execute_result"
    }
   ],
   "source": [
    "df1.isnull().sum()"
   ]
  },
  {
   "cell_type": "code",
   "execution_count": 27,
   "metadata": {},
   "outputs": [],
   "source": [
    "df2=df1.drop([\"__year_resale_value\"], axis=1)"
   ]
  },
  {
   "cell_type": "code",
   "execution_count": 28,
   "metadata": {},
   "outputs": [
    {
     "data": {
      "text/plain": [
       "Index(['Sales_in_thousands', 'Vehicle_type', 'Price_in_thousands',\n",
       "       'Engine_size', 'Horsepower', 'Wheelbase', 'Width', 'Length',\n",
       "       'Curb_weight', 'Fuel_capacity', 'Fuel_efficiency'],\n",
       "      dtype='object')"
      ]
     },
     "execution_count": 28,
     "metadata": {},
     "output_type": "execute_result"
    }
   ],
   "source": [
    "df2.columns"
   ]
  },
  {
   "cell_type": "code",
   "execution_count": 29,
   "metadata": {},
   "outputs": [],
   "source": [
    "# Outlier Capping\n",
    "df2[df2['Sales_in_thousands'] >= 223.071631426884] = 223.071631426884\n",
    "df2[df2['Price_in_thousands'] >= 63.2698878118058] = 63.2698878118058\n",
    "df2[df2['Engine_size'] >= 5.67252986908698] = 5.67252986908698\n",
    "df2[df2['Horsepower'] >= 327.699520094651] = 327.699520094651\n",
    "df2[df2['Wheelbase'] >= 126.590437061704] = 126.590437061704\n",
    "df2[df2['Width'] >= 79.7796796561483] = 79.7796796561483\n",
    "df2[df2['Length'] >= 220.922975454881] = 220.922975454881\n",
    "df2[df2['Curb_weight'] >= 4.95427989252485] = 4.95427989252485\n",
    "df2[df2['Fuel_capacity'] >= 27.6717262390846] = 27.6717262390846\n",
    "df2[df2['Fuel_efficiency'] >= 34.5509197488687] = 34.5509197488687\n",
    "#df2[df2['Power_perf_factor'] >= 139.90025144826] = 139.90025144826\n"
   ]
  },
  {
   "cell_type": "code",
   "execution_count": 30,
   "metadata": {},
   "outputs": [],
   "source": [
    "Outliers=df2.describe(percentiles=[.01,.05,.1,.2,.25,.5,.75,.90,.95,.99]).T\n",
    "Outliers.to_csv(\"Out.csv\")"
   ]
  },
  {
   "cell_type": "code",
   "execution_count": 31,
   "metadata": {},
   "outputs": [
    {
     "data": {
      "text/html": [
       "<div>\n",
       "<style scoped>\n",
       "    .dataframe tbody tr th:only-of-type {\n",
       "        vertical-align: middle;\n",
       "    }\n",
       "\n",
       "    .dataframe tbody tr th {\n",
       "        vertical-align: top;\n",
       "    }\n",
       "\n",
       "    .dataframe thead th {\n",
       "        text-align: right;\n",
       "    }\n",
       "</style>\n",
       "<table border=\"1\" class=\"dataframe\">\n",
       "  <thead>\n",
       "    <tr style=\"text-align: right;\">\n",
       "      <th></th>\n",
       "      <th>Sales_in_thousands</th>\n",
       "      <th>__year_resale_value</th>\n",
       "      <th>Price_in_thousands</th>\n",
       "      <th>Engine_size</th>\n",
       "      <th>Horsepower</th>\n",
       "      <th>Wheelbase</th>\n",
       "      <th>Width</th>\n",
       "      <th>Length</th>\n",
       "      <th>Curb_weight</th>\n",
       "      <th>Fuel_capacity</th>\n",
       "      <th>Fuel_efficiency</th>\n",
       "    </tr>\n",
       "  </thead>\n",
       "  <tbody>\n",
       "    <tr>\n",
       "      <td>count</td>\n",
       "      <td>157.000000</td>\n",
       "      <td>121.000000</td>\n",
       "      <td>155.000000</td>\n",
       "      <td>156.000000</td>\n",
       "      <td>156.000000</td>\n",
       "      <td>156.000000</td>\n",
       "      <td>156.000000</td>\n",
       "      <td>156.000000</td>\n",
       "      <td>155.000000</td>\n",
       "      <td>156.000000</td>\n",
       "      <td>154.000000</td>\n",
       "    </tr>\n",
       "    <tr>\n",
       "      <td>mean</td>\n",
       "      <td>52.998076</td>\n",
       "      <td>18.072975</td>\n",
       "      <td>27.390755</td>\n",
       "      <td>3.060897</td>\n",
       "      <td>185.948718</td>\n",
       "      <td>107.487179</td>\n",
       "      <td>71.150000</td>\n",
       "      <td>187.343590</td>\n",
       "      <td>3.378026</td>\n",
       "      <td>17.951923</td>\n",
       "      <td>23.844156</td>\n",
       "    </tr>\n",
       "    <tr>\n",
       "      <td>std</td>\n",
       "      <td>68.029422</td>\n",
       "      <td>11.453384</td>\n",
       "      <td>14.351653</td>\n",
       "      <td>1.044653</td>\n",
       "      <td>56.700321</td>\n",
       "      <td>7.641303</td>\n",
       "      <td>3.451872</td>\n",
       "      <td>13.431754</td>\n",
       "      <td>0.630502</td>\n",
       "      <td>3.887921</td>\n",
       "      <td>4.282706</td>\n",
       "    </tr>\n",
       "    <tr>\n",
       "      <td>min</td>\n",
       "      <td>0.110000</td>\n",
       "      <td>5.160000</td>\n",
       "      <td>9.235000</td>\n",
       "      <td>1.000000</td>\n",
       "      <td>55.000000</td>\n",
       "      <td>92.600000</td>\n",
       "      <td>62.600000</td>\n",
       "      <td>149.400000</td>\n",
       "      <td>1.895000</td>\n",
       "      <td>10.300000</td>\n",
       "      <td>15.000000</td>\n",
       "    </tr>\n",
       "    <tr>\n",
       "      <td>25%</td>\n",
       "      <td>14.114000</td>\n",
       "      <td>11.260000</td>\n",
       "      <td>18.017500</td>\n",
       "      <td>2.300000</td>\n",
       "      <td>149.500000</td>\n",
       "      <td>103.000000</td>\n",
       "      <td>68.400000</td>\n",
       "      <td>177.575000</td>\n",
       "      <td>2.971000</td>\n",
       "      <td>15.800000</td>\n",
       "      <td>21.000000</td>\n",
       "    </tr>\n",
       "    <tr>\n",
       "      <td>50%</td>\n",
       "      <td>29.450000</td>\n",
       "      <td>14.180000</td>\n",
       "      <td>22.799000</td>\n",
       "      <td>3.000000</td>\n",
       "      <td>177.500000</td>\n",
       "      <td>107.000000</td>\n",
       "      <td>70.550000</td>\n",
       "      <td>187.900000</td>\n",
       "      <td>3.342000</td>\n",
       "      <td>17.200000</td>\n",
       "      <td>24.000000</td>\n",
       "    </tr>\n",
       "    <tr>\n",
       "      <td>75%</td>\n",
       "      <td>67.956000</td>\n",
       "      <td>19.875000</td>\n",
       "      <td>31.947500</td>\n",
       "      <td>3.575000</td>\n",
       "      <td>215.000000</td>\n",
       "      <td>112.200000</td>\n",
       "      <td>73.425000</td>\n",
       "      <td>196.125000</td>\n",
       "      <td>3.799500</td>\n",
       "      <td>19.575000</td>\n",
       "      <td>26.000000</td>\n",
       "    </tr>\n",
       "    <tr>\n",
       "      <td>max</td>\n",
       "      <td>540.561000</td>\n",
       "      <td>67.550000</td>\n",
       "      <td>85.500000</td>\n",
       "      <td>8.000000</td>\n",
       "      <td>450.000000</td>\n",
       "      <td>138.700000</td>\n",
       "      <td>79.900000</td>\n",
       "      <td>224.500000</td>\n",
       "      <td>5.572000</td>\n",
       "      <td>32.000000</td>\n",
       "      <td>45.000000</td>\n",
       "    </tr>\n",
       "  </tbody>\n",
       "</table>\n",
       "</div>"
      ],
      "text/plain": [
       "       Sales_in_thousands  __year_resale_value  Price_in_thousands  \\\n",
       "count          157.000000           121.000000          155.000000   \n",
       "mean            52.998076            18.072975           27.390755   \n",
       "std             68.029422            11.453384           14.351653   \n",
       "min              0.110000             5.160000            9.235000   \n",
       "25%             14.114000            11.260000           18.017500   \n",
       "50%             29.450000            14.180000           22.799000   \n",
       "75%             67.956000            19.875000           31.947500   \n",
       "max            540.561000            67.550000           85.500000   \n",
       "\n",
       "       Engine_size  Horsepower   Wheelbase       Width      Length  \\\n",
       "count   156.000000  156.000000  156.000000  156.000000  156.000000   \n",
       "mean      3.060897  185.948718  107.487179   71.150000  187.343590   \n",
       "std       1.044653   56.700321    7.641303    3.451872   13.431754   \n",
       "min       1.000000   55.000000   92.600000   62.600000  149.400000   \n",
       "25%       2.300000  149.500000  103.000000   68.400000  177.575000   \n",
       "50%       3.000000  177.500000  107.000000   70.550000  187.900000   \n",
       "75%       3.575000  215.000000  112.200000   73.425000  196.125000   \n",
       "max       8.000000  450.000000  138.700000   79.900000  224.500000   \n",
       "\n",
       "       Curb_weight  Fuel_capacity  Fuel_efficiency  \n",
       "count   155.000000     156.000000       154.000000  \n",
       "mean      3.378026      17.951923        23.844156  \n",
       "std       0.630502       3.887921         4.282706  \n",
       "min       1.895000      10.300000        15.000000  \n",
       "25%       2.971000      15.800000        21.000000  \n",
       "50%       3.342000      17.200000        24.000000  \n",
       "75%       3.799500      19.575000        26.000000  \n",
       "max       5.572000      32.000000        45.000000  "
      ]
     },
     "execution_count": 31,
     "metadata": {},
     "output_type": "execute_result"
    }
   ],
   "source": [
    "df1.describe()"
   ]
  },
  {
   "cell_type": "code",
   "execution_count": 32,
   "metadata": {},
   "outputs": [
    {
     "data": {
      "text/plain": [
       "Sales_in_thousands    0\n",
       "Vehicle_type          0\n",
       "Price_in_thousands    2\n",
       "Engine_size           1\n",
       "Horsepower            1\n",
       "Wheelbase             1\n",
       "Width                 1\n",
       "Length                1\n",
       "Curb_weight           2\n",
       "Fuel_capacity         1\n",
       "Fuel_efficiency       3\n",
       "dtype: int64"
      ]
     },
     "execution_count": 32,
     "metadata": {},
     "output_type": "execute_result"
    }
   ],
   "source": [
    "df2.isnull().sum()"
   ]
  },
  {
   "cell_type": "code",
   "execution_count": 33,
   "metadata": {},
   "outputs": [],
   "source": [
    "# help(df2.fillna)"
   ]
  },
  {
   "cell_type": "code",
   "execution_count": 34,
   "metadata": {},
   "outputs": [],
   "source": [
    "d3=df2.fillna(0)"
   ]
  },
  {
   "cell_type": "code",
   "execution_count": 35,
   "metadata": {},
   "outputs": [
    {
     "data": {
      "text/plain": [
       "Sales_in_thousands    0\n",
       "Vehicle_type          0\n",
       "Price_in_thousands    0\n",
       "Engine_size           0\n",
       "Horsepower            0\n",
       "Wheelbase             0\n",
       "Width                 0\n",
       "Length                0\n",
       "Curb_weight           0\n",
       "Fuel_capacity         0\n",
       "Fuel_efficiency       0\n",
       "dtype: int64"
      ]
     },
     "execution_count": 35,
     "metadata": {},
     "output_type": "execute_result"
    }
   ],
   "source": [
    "d3.isnull().sum()"
   ]
  },
  {
   "cell_type": "code",
   "execution_count": 36,
   "metadata": {},
   "outputs": [
    {
     "data": {
      "text/plain": [
       "Sales_in_thousands    0\n",
       "Vehicle_type          0\n",
       "Price_in_thousands    2\n",
       "Engine_size           1\n",
       "Horsepower            1\n",
       "Wheelbase             1\n",
       "Width                 1\n",
       "Length                1\n",
       "Curb_weight           2\n",
       "Fuel_capacity         1\n",
       "Fuel_efficiency       3\n",
       "dtype: int64"
      ]
     },
     "execution_count": 36,
     "metadata": {},
     "output_type": "execute_result"
    }
   ],
   "source": [
    "df2.isnull().sum()"
   ]
  },
  {
   "cell_type": "code",
   "execution_count": 37,
   "metadata": {},
   "outputs": [
    {
     "data": {
      "text/plain": [
       "(157, 11)"
      ]
     },
     "execution_count": 37,
     "metadata": {},
     "output_type": "execute_result"
    }
   ],
   "source": [
    "df2.shape"
   ]
  },
  {
   "cell_type": "code",
   "execution_count": 38,
   "metadata": {},
   "outputs": [],
   "source": [
    "df3=df2.dropna()"
   ]
  },
  {
   "cell_type": "code",
   "execution_count": 39,
   "metadata": {},
   "outputs": [
    {
     "data": {
      "text/plain": [
       "(152, 11)"
      ]
     },
     "execution_count": 39,
     "metadata": {},
     "output_type": "execute_result"
    }
   ],
   "source": [
    "df3.shape"
   ]
  },
  {
   "cell_type": "code",
   "execution_count": 40,
   "metadata": {},
   "outputs": [
    {
     "data": {
      "text/plain": [
       "Sales_in_thousands    0\n",
       "Vehicle_type          0\n",
       "Price_in_thousands    0\n",
       "Engine_size           0\n",
       "Horsepower            0\n",
       "Wheelbase             0\n",
       "Width                 0\n",
       "Length                0\n",
       "Curb_weight           0\n",
       "Fuel_capacity         0\n",
       "Fuel_efficiency       0\n",
       "dtype: int64"
      ]
     },
     "execution_count": 40,
     "metadata": {},
     "output_type": "execute_result"
    }
   ],
   "source": [
    "df3.isnull().sum()"
   ]
  },
  {
   "cell_type": "code",
   "execution_count": 41,
   "metadata": {},
   "outputs": [],
   "source": [
    "corr_data=df3.corr()"
   ]
  },
  {
   "cell_type": "code",
   "execution_count": 42,
   "metadata": {},
   "outputs": [],
   "source": [
    "# corr_data.to_csv(\"Corr.csv\")"
   ]
  },
  {
   "cell_type": "code",
   "execution_count": 43,
   "metadata": {},
   "outputs": [
    {
     "data": {
      "image/png": "[encoded data removed]",
      "text/plain": [
       "<Figure size 720x720 with 2 Axes>"
      ]
     },
     "metadata": {
      "needs_background": "light"
     },
     "output_type": "display_data"
    }
   ],
   "source": [
    "import seaborn as sns\n",
    "f,ax=plt.subplots(figsize=(10,10))\n",
    "sns.heatmap(corr_data, ax=ax,cmap=\"gist_rainbow\", linewidths=0.1)\n",
    "plt.show()"
   ]
  },
  {
   "cell_type": "code",
   "execution_count": 44,
   "metadata": {},
   "outputs": [
    {
     "data": {
      "text/html": [
       "<style  type=\"text/css\" >\n",
       "    #T_5344d3e8_b93d_11ea_91e0_acd1b8a5e586row0_col0 {\n",
       "            background-color:  #b40426;\n",
       "            color:  #f1f1f1;\n",
       "        }    #T_5344d3e8_b93d_11ea_91e0_acd1b8a5e586row0_col1 {\n",
       "            background-color:  #3b4cc0;\n",
       "            color:  #f1f1f1;\n",
       "        }    #T_5344d3e8_b93d_11ea_91e0_acd1b8a5e586row0_col2 {\n",
       "            background-color:  #82a6fb;\n",
       "            color:  #000000;\n",
       "        }    #T_5344d3e8_b93d_11ea_91e0_acd1b8a5e586row0_col3 {\n",
       "            background-color:  #9abbff;\n",
       "            color:  #000000;\n",
       "        }    #T_5344d3e8_b93d_11ea_91e0_acd1b8a5e586row0_col4 {\n",
       "            background-color:  #dfdbd9;\n",
       "            color:  #000000;\n",
       "        }    #T_5344d3e8_b93d_11ea_91e0_acd1b8a5e586row0_col5 {\n",
       "            background-color:  #d9dce1;\n",
       "            color:  #000000;\n",
       "        }    #T_5344d3e8_b93d_11ea_91e0_acd1b8a5e586row0_col6 {\n",
       "            background-color:  #dfdbd9;\n",
       "            color:  #000000;\n",
       "        }    #T_5344d3e8_b93d_11ea_91e0_acd1b8a5e586row0_col7 {\n",
       "            background-color:  #7ea1fa;\n",
       "            color:  #000000;\n",
       "        }    #T_5344d3e8_b93d_11ea_91e0_acd1b8a5e586row0_col8 {\n",
       "            background-color:  #3b4cc0;\n",
       "            color:  #f1f1f1;\n",
       "        }    #T_5344d3e8_b93d_11ea_91e0_acd1b8a5e586row0_col9 {\n",
       "            background-color:  #b7cff9;\n",
       "            color:  #000000;\n",
       "        }    #T_5344d3e8_b93d_11ea_91e0_acd1b8a5e586row1_col0 {\n",
       "            background-color:  #3b4cc0;\n",
       "            color:  #f1f1f1;\n",
       "        }    #T_5344d3e8_b93d_11ea_91e0_acd1b8a5e586row1_col1 {\n",
       "            background-color:  #b40426;\n",
       "            color:  #f1f1f1;\n",
       "        }    #T_5344d3e8_b93d_11ea_91e0_acd1b8a5e586row1_col2 {\n",
       "            background-color:  #aac7fd;\n",
       "            color:  #000000;\n",
       "        }    #T_5344d3e8_b93d_11ea_91e0_acd1b8a5e586row1_col3 {\n",
       "            background-color:  #de614d;\n",
       "            color:  #000000;\n",
       "        }    #T_5344d3e8_b93d_11ea_91e0_acd1b8a5e586row1_col4 {\n",
       "            background-color:  #f7ad90;\n",
       "            color:  #000000;\n",
       "        }    #T_5344d3e8_b93d_11ea_91e0_acd1b8a5e586row1_col5 {\n",
       "            background-color:  #f7af91;\n",
       "            color:  #000000;\n",
       "        }    #T_5344d3e8_b93d_11ea_91e0_acd1b8a5e586row1_col6 {\n",
       "            background-color:  #f7af91;\n",
       "            color:  #000000;\n",
       "        }    #T_5344d3e8_b93d_11ea_91e0_acd1b8a5e586row1_col7 {\n",
       "            background-color:  #a6c4fe;\n",
       "            color:  #000000;\n",
       "        }    #T_5344d3e8_b93d_11ea_91e0_acd1b8a5e586row1_col8 {\n",
       "            background-color:  #f2c9b4;\n",
       "            color:  #000000;\n",
       "        }    #T_5344d3e8_b93d_11ea_91e0_acd1b8a5e586row1_col9 {\n",
       "            background-color:  #c3d5f4;\n",
       "            color:  #000000;\n",
       "        }    #T_5344d3e8_b93d_11ea_91e0_acd1b8a5e586row2_col0 {\n",
       "            background-color:  #455cce;\n",
       "            color:  #f1f1f1;\n",
       "        }    #T_5344d3e8_b93d_11ea_91e0_acd1b8a5e586row2_col1 {\n",
       "            background-color:  #7295f4;\n",
       "            color:  #000000;\n",
       "        }    #T_5344d3e8_b93d_11ea_91e0_acd1b8a5e586row2_col2 {\n",
       "            background-color:  #b40426;\n",
       "            color:  #f1f1f1;\n",
       "        }    #T_5344d3e8_b93d_11ea_91e0_acd1b8a5e586row2_col3 {\n",
       "            background-color:  #3e51c5;\n",
       "            color:  #f1f1f1;\n",
       "        }    #T_5344d3e8_b93d_11ea_91e0_acd1b8a5e586row2_col4 {\n",
       "            background-color:  #3b4cc0;\n",
       "            color:  #f1f1f1;\n",
       "        }    #T_5344d3e8_b93d_11ea_91e0_acd1b8a5e586row2_col5 {\n",
       "            background-color:  #3b4cc0;\n",
       "            color:  #f1f1f1;\n",
       "        }    #T_5344d3e8_b93d_11ea_91e0_acd1b8a5e586row2_col6 {\n",
       "            background-color:  #3b4cc0;\n",
       "            color:  #f1f1f1;\n",
       "        }    #T_5344d3e8_b93d_11ea_91e0_acd1b8a5e586row2_col7 {\n",
       "            background-color:  #b50927;\n",
       "            color:  #f1f1f1;\n",
       "        }    #T_5344d3e8_b93d_11ea_91e0_acd1b8a5e586row2_col8 {\n",
       "            background-color:  #3c4ec2;\n",
       "            color:  #f1f1f1;\n",
       "        }    #T_5344d3e8_b93d_11ea_91e0_acd1b8a5e586row2_col9 {\n",
       "            background-color:  #3b4cc0;\n",
       "            color:  #f1f1f1;\n",
       "        }    #T_5344d3e8_b93d_11ea_91e0_acd1b8a5e586row3_col0 {\n",
       "            background-color:  #7da0f9;\n",
       "            color:  #000000;\n",
       "        }    #T_5344d3e8_b93d_11ea_91e0_acd1b8a5e586row3_col1 {\n",
       "            background-color:  #e26952;\n",
       "            color:  #000000;\n",
       "        }    #T_5344d3e8_b93d_11ea_91e0_acd1b8a5e586row3_col2 {\n",
       "            background-color:  #5b7ae5;\n",
       "            color:  #000000;\n",
       "        }    #T_5344d3e8_b93d_11ea_91e0_acd1b8a5e586row3_col3 {\n",
       "            background-color:  #b40426;\n",
       "            color:  #f1f1f1;\n",
       "        }    #T_5344d3e8_b93d_11ea_91e0_acd1b8a5e586row3_col4 {\n",
       "            background-color:  #d85646;\n",
       "            color:  #000000;\n",
       "        }    #T_5344d3e8_b93d_11ea_91e0_acd1b8a5e586row3_col5 {\n",
       "            background-color:  #da5a49;\n",
       "            color:  #000000;\n",
       "        }    #T_5344d3e8_b93d_11ea_91e0_acd1b8a5e586row3_col6 {\n",
       "            background-color:  #d75445;\n",
       "            color:  #000000;\n",
       "        }    #T_5344d3e8_b93d_11ea_91e0_acd1b8a5e586row3_col7 {\n",
       "            background-color:  #5470de;\n",
       "            color:  #000000;\n",
       "        }    #T_5344d3e8_b93d_11ea_91e0_acd1b8a5e586row3_col8 {\n",
       "            background-color:  #f5c0a7;\n",
       "            color:  #000000;\n",
       "        }    #T_5344d3e8_b93d_11ea_91e0_acd1b8a5e586row3_col9 {\n",
       "            background-color:  #ead4c8;\n",
       "            color:  #000000;\n",
       "        }    #T_5344d3e8_b93d_11ea_91e0_acd1b8a5e586row4_col0 {\n",
       "            background-color:  #c1d4f4;\n",
       "            color:  #000000;\n",
       "        }    #T_5344d3e8_b93d_11ea_91e0_acd1b8a5e586row4_col1 {\n",
       "            background-color:  #f5c1a9;\n",
       "            color:  #000000;\n",
       "        }    #T_5344d3e8_b93d_11ea_91e0_acd1b8a5e586row4_col2 {\n",
       "            background-color:  #3f53c6;\n",
       "            color:  #f1f1f1;\n",
       "        }    #T_5344d3e8_b93d_11ea_91e0_acd1b8a5e586row4_col3 {\n",
       "            background-color:  #dc5d4a;\n",
       "            color:  #000000;\n",
       "        }    #T_5344d3e8_b93d_11ea_91e0_acd1b8a5e586row4_col4 {\n",
       "            background-color:  #b40426;\n",
       "            color:  #f1f1f1;\n",
       "        }    #T_5344d3e8_b93d_11ea_91e0_acd1b8a5e586row4_col5 {\n",
       "            background-color:  #b50927;\n",
       "            color:  #f1f1f1;\n",
       "        }    #T_5344d3e8_b93d_11ea_91e0_acd1b8a5e586row4_col6 {\n",
       "            background-color:  #b50927;\n",
       "            color:  #f1f1f1;\n",
       "        }    #T_5344d3e8_b93d_11ea_91e0_acd1b8a5e586row4_col7 {\n",
       "            background-color:  #4055c8;\n",
       "            color:  #f1f1f1;\n",
       "        }    #T_5344d3e8_b93d_11ea_91e0_acd1b8a5e586row4_col8 {\n",
       "            background-color:  #f6bea4;\n",
       "            color:  #000000;\n",
       "        }    #T_5344d3e8_b93d_11ea_91e0_acd1b8a5e586row4_col9 {\n",
       "            background-color:  #ec7f63;\n",
       "            color:  #000000;\n",
       "        }    #T_5344d3e8_b93d_11ea_91e0_acd1b8a5e586row5_col0 {\n",
       "            background-color:  #bfd3f6;\n",
       "            color:  #000000;\n",
       "        }    #T_5344d3e8_b93d_11ea_91e0_acd1b8a5e586row5_col1 {\n",
       "            background-color:  #f5c0a7;\n",
       "            color:  #000000;\n",
       "        }    #T_5344d3e8_b93d_11ea_91e0_acd1b8a5e586row5_col2 {\n",
       "            background-color:  #485fd1;\n",
       "            color:  #f1f1f1;\n",
       "        }    #T_5344d3e8_b93d_11ea_91e0_acd1b8a5e586row5_col3 {\n",
       "            background-color:  #dd5f4b;\n",
       "            color:  #000000;\n",
       "        }    #T_5344d3e8_b93d_11ea_91e0_acd1b8a5e586row5_col4 {\n",
       "            background-color:  #b50927;\n",
       "            color:  #f1f1f1;\n",
       "        }    #T_5344d3e8_b93d_11ea_91e0_acd1b8a5e586row5_col5 {\n",
       "            background-color:  #b40426;\n",
       "            color:  #f1f1f1;\n",
       "        }    #T_5344d3e8_b93d_11ea_91e0_acd1b8a5e586row5_col6 {\n",
       "            background-color:  #b70d28;\n",
       "            color:  #f1f1f1;\n",
       "        }    #T_5344d3e8_b93d_11ea_91e0_acd1b8a5e586row5_col7 {\n",
       "            background-color:  #4961d2;\n",
       "            color:  #f1f1f1;\n",
       "        }    #T_5344d3e8_b93d_11ea_91e0_acd1b8a5e586row5_col8 {\n",
       "            background-color:  #f7bca1;\n",
       "            color:  #000000;\n",
       "        }    #T_5344d3e8_b93d_11ea_91e0_acd1b8a5e586row5_col9 {\n",
       "            background-color:  #e7745b;\n",
       "            color:  #000000;\n",
       "        }    #T_5344d3e8_b93d_11ea_91e0_acd1b8a5e586row6_col0 {\n",
       "            background-color:  #bed2f6;\n",
       "            color:  #000000;\n",
       "        }    #T_5344d3e8_b93d_11ea_91e0_acd1b8a5e586row6_col1 {\n",
       "            background-color:  #f4c5ad;\n",
       "            color:  #000000;\n",
       "        }    #T_5344d3e8_b93d_11ea_91e0_acd1b8a5e586row6_col2 {\n",
       "            background-color:  #3b4cc0;\n",
       "            color:  #f1f1f1;\n",
       "        }    #T_5344d3e8_b93d_11ea_91e0_acd1b8a5e586row6_col3 {\n",
       "            background-color:  #da5a49;\n",
       "            color:  #000000;\n",
       "        }    #T_5344d3e8_b93d_11ea_91e0_acd1b8a5e586row6_col4 {\n",
       "            background-color:  #b50927;\n",
       "            color:  #f1f1f1;\n",
       "        }    #T_5344d3e8_b93d_11ea_91e0_acd1b8a5e586row6_col5 {\n",
       "            background-color:  #b70d28;\n",
       "            color:  #f1f1f1;\n",
       "        }    #T_5344d3e8_b93d_11ea_91e0_acd1b8a5e586row6_col6 {\n",
       "            background-color:  #b40426;\n",
       "            color:  #f1f1f1;\n",
       "        }    #T_5344d3e8_b93d_11ea_91e0_acd1b8a5e586row6_col7 {\n",
       "            background-color:  #3b4cc0;\n",
       "            color:  #f1f1f1;\n",
       "        }    #T_5344d3e8_b93d_11ea_91e0_acd1b8a5e586row6_col8 {\n",
       "            background-color:  #f3c7b1;\n",
       "            color:  #000000;\n",
       "        }    #T_5344d3e8_b93d_11ea_91e0_acd1b8a5e586row6_col9 {\n",
       "            background-color:  #ee8468;\n",
       "            color:  #000000;\n",
       "        }    #T_5344d3e8_b93d_11ea_91e0_acd1b8a5e586row7_col0 {\n",
       "            background-color:  #445acc;\n",
       "            color:  #f1f1f1;\n",
       "        }    #T_5344d3e8_b93d_11ea_91e0_acd1b8a5e586row7_col1 {\n",
       "            background-color:  #7093f3;\n",
       "            color:  #000000;\n",
       "        }    #T_5344d3e8_b93d_11ea_91e0_acd1b8a5e586row7_col2 {\n",
       "            background-color:  #b50927;\n",
       "            color:  #f1f1f1;\n",
       "        }    #T_5344d3e8_b93d_11ea_91e0_acd1b8a5e586row7_col3 {\n",
       "            background-color:  #3b4cc0;\n",
       "            color:  #f1f1f1;\n",
       "        }    #T_5344d3e8_b93d_11ea_91e0_acd1b8a5e586row7_col4 {\n",
       "            background-color:  #3f53c6;\n",
       "            color:  #f1f1f1;\n",
       "        }    #T_5344d3e8_b93d_11ea_91e0_acd1b8a5e586row7_col5 {\n",
       "            background-color:  #3f53c6;\n",
       "            color:  #f1f1f1;\n",
       "        }    #T_5344d3e8_b93d_11ea_91e0_acd1b8a5e586row7_col6 {\n",
       "            background-color:  #3e51c5;\n",
       "            color:  #f1f1f1;\n",
       "        }    #T_5344d3e8_b93d_11ea_91e0_acd1b8a5e586row7_col7 {\n",
       "            background-color:  #b40426;\n",
       "            color:  #f1f1f1;\n",
       "        }    #T_5344d3e8_b93d_11ea_91e0_acd1b8a5e586row7_col8 {\n",
       "            background-color:  #455cce;\n",
       "            color:  #f1f1f1;\n",
       "        }    #T_5344d3e8_b93d_11ea_91e0_acd1b8a5e586row7_col9 {\n",
       "            background-color:  #4961d2;\n",
       "            color:  #f1f1f1;\n",
       "        }    #T_5344d3e8_b93d_11ea_91e0_acd1b8a5e586row8_col0 {\n",
       "            background-color:  #a7c5fe;\n",
       "            color:  #000000;\n",
       "        }    #T_5344d3e8_b93d_11ea_91e0_acd1b8a5e586row8_col1 {\n",
       "            background-color:  #f59f80;\n",
       "            color:  #000000;\n",
       "        }    #T_5344d3e8_b93d_11ea_91e0_acd1b8a5e586row8_col2 {\n",
       "            background-color:  #d2dbe8;\n",
       "            color:  #000000;\n",
       "        }    #T_5344d3e8_b93d_11ea_91e0_acd1b8a5e586row8_col3 {\n",
       "            background-color:  #f08b6e;\n",
       "            color:  #000000;\n",
       "        }    #T_5344d3e8_b93d_11ea_91e0_acd1b8a5e586row8_col4 {\n",
       "            background-color:  #ed8366;\n",
       "            color:  #000000;\n",
       "        }    #T_5344d3e8_b93d_11ea_91e0_acd1b8a5e586row8_col5 {\n",
       "            background-color:  #ed8366;\n",
       "            color:  #000000;\n",
       "        }    #T_5344d3e8_b93d_11ea_91e0_acd1b8a5e586row8_col6 {\n",
       "            background-color:  #ef886b;\n",
       "            color:  #000000;\n",
       "        }    #T_5344d3e8_b93d_11ea_91e0_acd1b8a5e586row8_col7 {\n",
       "            background-color:  #d4dbe6;\n",
       "            color:  #000000;\n",
       "        }    #T_5344d3e8_b93d_11ea_91e0_acd1b8a5e586row8_col8 {\n",
       "            background-color:  #b40426;\n",
       "            color:  #f1f1f1;\n",
       "        }    #T_5344d3e8_b93d_11ea_91e0_acd1b8a5e586row8_col9 {\n",
       "            background-color:  #f1cdba;\n",
       "            color:  #000000;\n",
       "        }    #T_5344d3e8_b93d_11ea_91e0_acd1b8a5e586row9_col0 {\n",
       "            background-color:  #bbd1f8;\n",
       "            color:  #000000;\n",
       "        }    #T_5344d3e8_b93d_11ea_91e0_acd1b8a5e586row9_col1 {\n",
       "            background-color:  #c5d6f2;\n",
       "            color:  #000000;\n",
       "        }    #T_5344d3e8_b93d_11ea_91e0_acd1b8a5e586row9_col2 {\n",
       "            background-color:  #7da0f9;\n",
       "            color:  #000000;\n",
       "        }    #T_5344d3e8_b93d_11ea_91e0_acd1b8a5e586row9_col3 {\n",
       "            background-color:  #f3c8b2;\n",
       "            color:  #000000;\n",
       "        }    #T_5344d3e8_b93d_11ea_91e0_acd1b8a5e586row9_col4 {\n",
       "            background-color:  #e46e56;\n",
       "            color:  #000000;\n",
       "        }    #T_5344d3e8_b93d_11ea_91e0_acd1b8a5e586row9_col5 {\n",
       "            background-color:  #e16751;\n",
       "            color:  #000000;\n",
       "        }    #T_5344d3e8_b93d_11ea_91e0_acd1b8a5e586row9_col6 {\n",
       "            background-color:  #e57058;\n",
       "            color:  #000000;\n",
       "        }    #T_5344d3e8_b93d_11ea_91e0_acd1b8a5e586row9_col7 {\n",
       "            background-color:  #86a9fc;\n",
       "            color:  #000000;\n",
       "        }    #T_5344d3e8_b93d_11ea_91e0_acd1b8a5e586row9_col8 {\n",
       "            background-color:  #c1d4f4;\n",
       "            color:  #000000;\n",
       "        }    #T_5344d3e8_b93d_11ea_91e0_acd1b8a5e586row9_col9 {\n",
       "            background-color:  #b40426;\n",
       "            color:  #f1f1f1;\n",
       "        }</style><table id=\"T_5344d3e8_b93d_11ea_91e0_acd1b8a5e586\" ><thead>    <tr>        <th class=\"blank level0\" ></th>        <th class=\"col_heading level0 col0\" >Sales_in_thousands</th>        <th class=\"col_heading level0 col1\" >Price_in_thousands</th>        <th class=\"col_heading level0 col2\" >Engine_size</th>        <th class=\"col_heading level0 col3\" >Horsepower</th>        <th class=\"col_heading level0 col4\" >Wheelbase</th>        <th class=\"col_heading level0 col5\" >Width</th>        <th class=\"col_heading level0 col6\" >Length</th>        <th class=\"col_heading level0 col7\" >Curb_weight</th>        <th class=\"col_heading level0 col8\" >Fuel_capacity</th>        <th class=\"col_heading level0 col9\" >Fuel_efficiency</th>    </tr></thead><tbody>\n",
       "                <tr>\n",
       "                        <th id=\"T_5344d3e8_b93d_11ea_91e0_acd1b8a5e586level0_row0\" class=\"row_heading level0 row0\" >Sales_in_thousands</th>\n",
       "                        <td id=\"T_5344d3e8_b93d_11ea_91e0_acd1b8a5e586row0_col0\" class=\"data row0 col0\" >1</td>\n",
       "                        <td id=\"T_5344d3e8_b93d_11ea_91e0_acd1b8a5e586row0_col1\" class=\"data row0 col1\" >-0.125</td>\n",
       "                        <td id=\"T_5344d3e8_b93d_11ea_91e0_acd1b8a5e586row0_col2\" class=\"data row0 col2\" >-0.0845</td>\n",
       "                        <td id=\"T_5344d3e8_b93d_11ea_91e0_acd1b8a5e586row0_col3\" class=\"data row0 col3\" >0.104</td>\n",
       "                        <td id=\"T_5344d3e8_b93d_11ea_91e0_acd1b8a5e586row0_col4\" class=\"data row0 col4\" >0.331</td>\n",
       "                        <td id=\"T_5344d3e8_b93d_11ea_91e0_acd1b8a5e586row0_col5\" class=\"data row0 col5\" >0.319</td>\n",
       "                        <td id=\"T_5344d3e8_b93d_11ea_91e0_acd1b8a5e586row0_col6\" class=\"data row0 col6\" >0.319</td>\n",
       "                        <td id=\"T_5344d3e8_b93d_11ea_91e0_acd1b8a5e586row0_col7\" class=\"data row0 col7\" >-0.0874</td>\n",
       "                        <td id=\"T_5344d3e8_b93d_11ea_91e0_acd1b8a5e586row0_col8\" class=\"data row0 col8\" >0.241</td>\n",
       "                        <td id=\"T_5344d3e8_b93d_11ea_91e0_acd1b8a5e586row0_col9\" class=\"data row0 col9\" >0.306</td>\n",
       "            </tr>\n",
       "            <tr>\n",
       "                        <th id=\"T_5344d3e8_b93d_11ea_91e0_acd1b8a5e586level0_row1\" class=\"row_heading level0 row1\" >Price_in_thousands</th>\n",
       "                        <td id=\"T_5344d3e8_b93d_11ea_91e0_acd1b8a5e586row1_col0\" class=\"data row1 col0\" >-0.125</td>\n",
       "                        <td id=\"T_5344d3e8_b93d_11ea_91e0_acd1b8a5e586row1_col1\" class=\"data row1 col1\" >1</td>\n",
       "                        <td id=\"T_5344d3e8_b93d_11ea_91e0_acd1b8a5e586row1_col2\" class=\"data row1 col2\" >0.0693</td>\n",
       "                        <td id=\"T_5344d3e8_b93d_11ea_91e0_acd1b8a5e586row1_col3\" class=\"data row1 col3\" >0.84</td>\n",
       "                        <td id=\"T_5344d3e8_b93d_11ea_91e0_acd1b8a5e586row1_col4\" class=\"data row1 col4\" >0.588</td>\n",
       "                        <td id=\"T_5344d3e8_b93d_11ea_91e0_acd1b8a5e586row1_col5\" class=\"data row1 col5\" >0.593</td>\n",
       "                        <td id=\"T_5344d3e8_b93d_11ea_91e0_acd1b8a5e586row1_col6\" class=\"data row1 col6\" >0.575</td>\n",
       "                        <td id=\"T_5344d3e8_b93d_11ea_91e0_acd1b8a5e586row1_col7\" class=\"data row1 col7\" >0.0664</td>\n",
       "                        <td id=\"T_5344d3e8_b93d_11ea_91e0_acd1b8a5e586row1_col8\" class=\"data row1 col8\" >0.703</td>\n",
       "                        <td id=\"T_5344d3e8_b93d_11ea_91e0_acd1b8a5e586row1_col9\" class=\"data row1 col9\" >0.343</td>\n",
       "            </tr>\n",
       "            <tr>\n",
       "                        <th id=\"T_5344d3e8_b93d_11ea_91e0_acd1b8a5e586level0_row2\" class=\"row_heading level0 row2\" >Engine_size</th>\n",
       "                        <td id=\"T_5344d3e8_b93d_11ea_91e0_acd1b8a5e586row2_col0\" class=\"data row2 col0\" >-0.0845</td>\n",
       "                        <td id=\"T_5344d3e8_b93d_11ea_91e0_acd1b8a5e586row2_col1\" class=\"data row2 col1\" >0.0693</td>\n",
       "                        <td id=\"T_5344d3e8_b93d_11ea_91e0_acd1b8a5e586row2_col2\" class=\"data row2 col2\" >1</td>\n",
       "                        <td id=\"T_5344d3e8_b93d_11ea_91e0_acd1b8a5e586row2_col3\" class=\"data row2 col3\" >-0.243</td>\n",
       "                        <td id=\"T_5344d3e8_b93d_11ea_91e0_acd1b8a5e586row2_col4\" class=\"data row2 col4\" >-0.368</td>\n",
       "                        <td id=\"T_5344d3e8_b93d_11ea_91e0_acd1b8a5e586row2_col5\" class=\"data row2 col5\" >-0.33</td>\n",
       "                        <td id=\"T_5344d3e8_b93d_11ea_91e0_acd1b8a5e586row2_col6\" class=\"data row2 col6\" >-0.394</td>\n",
       "                        <td id=\"T_5344d3e8_b93d_11ea_91e0_acd1b8a5e586row2_col7\" class=\"data row2 col7\" >0.99</td>\n",
       "                        <td id=\"T_5344d3e8_b93d_11ea_91e0_acd1b8a5e586row2_col8\" class=\"data row2 col8\" >0.246</td>\n",
       "                        <td id=\"T_5344d3e8_b93d_11ea_91e0_acd1b8a5e586row2_col9\" class=\"data row2 col9\" >-0.109</td>\n",
       "            </tr>\n",
       "            <tr>\n",
       "                        <th id=\"T_5344d3e8_b93d_11ea_91e0_acd1b8a5e586level0_row3\" class=\"row_heading level0 row3\" >Horsepower</th>\n",
       "                        <td id=\"T_5344d3e8_b93d_11ea_91e0_acd1b8a5e586row3_col0\" class=\"data row3 col0\" >0.104</td>\n",
       "                        <td id=\"T_5344d3e8_b93d_11ea_91e0_acd1b8a5e586row3_col1\" class=\"data row3 col1\" >0.84</td>\n",
       "                        <td id=\"T_5344d3e8_b93d_11ea_91e0_acd1b8a5e586row3_col2\" class=\"data row3 col2\" >-0.243</td>\n",
       "                        <td id=\"T_5344d3e8_b93d_11ea_91e0_acd1b8a5e586row3_col3\" class=\"data row3 col3\" >1</td>\n",
       "                        <td id=\"T_5344d3e8_b93d_11ea_91e0_acd1b8a5e586row3_col4\" class=\"data row3 col4\" >0.85</td>\n",
       "                        <td id=\"T_5344d3e8_b93d_11ea_91e0_acd1b8a5e586row3_col5\" class=\"data row3 col5\" >0.845</td>\n",
       "                        <td id=\"T_5344d3e8_b93d_11ea_91e0_acd1b8a5e586row3_col6\" class=\"data row3 col6\" >0.857</td>\n",
       "                        <td id=\"T_5344d3e8_b93d_11ea_91e0_acd1b8a5e586row3_col7\" class=\"data row3 col7\" >-0.259</td>\n",
       "                        <td id=\"T_5344d3e8_b93d_11ea_91e0_acd1b8a5e586row3_col8\" class=\"data row3 col8\" >0.727</td>\n",
       "                        <td id=\"T_5344d3e8_b93d_11ea_91e0_acd1b8a5e586row3_col9\" class=\"data row3 col9\" >0.51</td>\n",
       "            </tr>\n",
       "            <tr>\n",
       "                        <th id=\"T_5344d3e8_b93d_11ea_91e0_acd1b8a5e586level0_row4\" class=\"row_heading level0 row4\" >Wheelbase</th>\n",
       "                        <td id=\"T_5344d3e8_b93d_11ea_91e0_acd1b8a5e586row4_col0\" class=\"data row4 col0\" >0.331</td>\n",
       "                        <td id=\"T_5344d3e8_b93d_11ea_91e0_acd1b8a5e586row4_col1\" class=\"data row4 col1\" >0.588</td>\n",
       "                        <td id=\"T_5344d3e8_b93d_11ea_91e0_acd1b8a5e586row4_col2\" class=\"data row4 col2\" >-0.368</td>\n",
       "                        <td id=\"T_5344d3e8_b93d_11ea_91e0_acd1b8a5e586row4_col3\" class=\"data row4 col3\" >0.85</td>\n",
       "                        <td id=\"T_5344d3e8_b93d_11ea_91e0_acd1b8a5e586row4_col4\" class=\"data row4 col4\" >1</td>\n",
       "                        <td id=\"T_5344d3e8_b93d_11ea_91e0_acd1b8a5e586row4_col5\" class=\"data row4 col5\" >0.992</td>\n",
       "                        <td id=\"T_5344d3e8_b93d_11ea_91e0_acd1b8a5e586row4_col6\" class=\"data row4 col6\" >0.993</td>\n",
       "                        <td id=\"T_5344d3e8_b93d_11ea_91e0_acd1b8a5e586row4_col7\" class=\"data row4 col7\" >-0.344</td>\n",
       "                        <td id=\"T_5344d3e8_b93d_11ea_91e0_acd1b8a5e586row4_col8\" class=\"data row4 col8\" >0.733</td>\n",
       "                        <td id=\"T_5344d3e8_b93d_11ea_91e0_acd1b8a5e586row4_col9\" class=\"data row4 col9\" >0.79</td>\n",
       "            </tr>\n",
       "            <tr>\n",
       "                        <th id=\"T_5344d3e8_b93d_11ea_91e0_acd1b8a5e586level0_row5\" class=\"row_heading level0 row5\" >Width</th>\n",
       "                        <td id=\"T_5344d3e8_b93d_11ea_91e0_acd1b8a5e586row5_col0\" class=\"data row5 col0\" >0.319</td>\n",
       "                        <td id=\"T_5344d3e8_b93d_11ea_91e0_acd1b8a5e586row5_col1\" class=\"data row5 col1\" >0.593</td>\n",
       "                        <td id=\"T_5344d3e8_b93d_11ea_91e0_acd1b8a5e586row5_col2\" class=\"data row5 col2\" >-0.33</td>\n",
       "                        <td id=\"T_5344d3e8_b93d_11ea_91e0_acd1b8a5e586row5_col3\" class=\"data row5 col3\" >0.845</td>\n",
       "                        <td id=\"T_5344d3e8_b93d_11ea_91e0_acd1b8a5e586row5_col4\" class=\"data row5 col4\" >0.992</td>\n",
       "                        <td id=\"T_5344d3e8_b93d_11ea_91e0_acd1b8a5e586row5_col5\" class=\"data row5 col5\" >1</td>\n",
       "                        <td id=\"T_5344d3e8_b93d_11ea_91e0_acd1b8a5e586row5_col6\" class=\"data row5 col6\" >0.988</td>\n",
       "                        <td id=\"T_5344d3e8_b93d_11ea_91e0_acd1b8a5e586row5_col7\" class=\"data row5 col7\" >-0.306</td>\n",
       "                        <td id=\"T_5344d3e8_b93d_11ea_91e0_acd1b8a5e586row5_col8\" class=\"data row5 col8\" >0.739</td>\n",
       "                        <td id=\"T_5344d3e8_b93d_11ea_91e0_acd1b8a5e586row5_col9\" class=\"data row5 col9\" >0.815</td>\n",
       "            </tr>\n",
       "            <tr>\n",
       "                        <th id=\"T_5344d3e8_b93d_11ea_91e0_acd1b8a5e586level0_row6\" class=\"row_heading level0 row6\" >Length</th>\n",
       "                        <td id=\"T_5344d3e8_b93d_11ea_91e0_acd1b8a5e586row6_col0\" class=\"data row6 col0\" >0.319</td>\n",
       "                        <td id=\"T_5344d3e8_b93d_11ea_91e0_acd1b8a5e586row6_col1\" class=\"data row6 col1\" >0.575</td>\n",
       "                        <td id=\"T_5344d3e8_b93d_11ea_91e0_acd1b8a5e586row6_col2\" class=\"data row6 col2\" >-0.394</td>\n",
       "                        <td id=\"T_5344d3e8_b93d_11ea_91e0_acd1b8a5e586row6_col3\" class=\"data row6 col3\" >0.857</td>\n",
       "                        <td id=\"T_5344d3e8_b93d_11ea_91e0_acd1b8a5e586row6_col4\" class=\"data row6 col4\" >0.993</td>\n",
       "                        <td id=\"T_5344d3e8_b93d_11ea_91e0_acd1b8a5e586row6_col5\" class=\"data row6 col5\" >0.988</td>\n",
       "                        <td id=\"T_5344d3e8_b93d_11ea_91e0_acd1b8a5e586row6_col6\" class=\"data row6 col6\" >1</td>\n",
       "                        <td id=\"T_5344d3e8_b93d_11ea_91e0_acd1b8a5e586row6_col7\" class=\"data row6 col7\" >-0.375</td>\n",
       "                        <td id=\"T_5344d3e8_b93d_11ea_91e0_acd1b8a5e586row6_col8\" class=\"data row6 col8\" >0.708</td>\n",
       "                        <td id=\"T_5344d3e8_b93d_11ea_91e0_acd1b8a5e586row6_col9\" class=\"data row6 col9\" >0.779</td>\n",
       "            </tr>\n",
       "            <tr>\n",
       "                        <th id=\"T_5344d3e8_b93d_11ea_91e0_acd1b8a5e586level0_row7\" class=\"row_heading level0 row7\" >Curb_weight</th>\n",
       "                        <td id=\"T_5344d3e8_b93d_11ea_91e0_acd1b8a5e586row7_col0\" class=\"data row7 col0\" >-0.0874</td>\n",
       "                        <td id=\"T_5344d3e8_b93d_11ea_91e0_acd1b8a5e586row7_col1\" class=\"data row7 col1\" >0.0664</td>\n",
       "                        <td id=\"T_5344d3e8_b93d_11ea_91e0_acd1b8a5e586row7_col2\" class=\"data row7 col2\" >0.99</td>\n",
       "                        <td id=\"T_5344d3e8_b93d_11ea_91e0_acd1b8a5e586row7_col3\" class=\"data row7 col3\" >-0.259</td>\n",
       "                        <td id=\"T_5344d3e8_b93d_11ea_91e0_acd1b8a5e586row7_col4\" class=\"data row7 col4\" >-0.344</td>\n",
       "                        <td id=\"T_5344d3e8_b93d_11ea_91e0_acd1b8a5e586row7_col5\" class=\"data row7 col5\" >-0.306</td>\n",
       "                        <td id=\"T_5344d3e8_b93d_11ea_91e0_acd1b8a5e586row7_col6\" class=\"data row7 col6\" >-0.375</td>\n",
       "                        <td id=\"T_5344d3e8_b93d_11ea_91e0_acd1b8a5e586row7_col7\" class=\"data row7 col7\" >1</td>\n",
       "                        <td id=\"T_5344d3e8_b93d_11ea_91e0_acd1b8a5e586row7_col8\" class=\"data row7 col8\" >0.269</td>\n",
       "                        <td id=\"T_5344d3e8_b93d_11ea_91e0_acd1b8a5e586row7_col9\" class=\"data row7 col9\" >-0.0566</td>\n",
       "            </tr>\n",
       "            <tr>\n",
       "                        <th id=\"T_5344d3e8_b93d_11ea_91e0_acd1b8a5e586level0_row8\" class=\"row_heading level0 row8\" >Fuel_capacity</th>\n",
       "                        <td id=\"T_5344d3e8_b93d_11ea_91e0_acd1b8a5e586row8_col0\" class=\"data row8 col0\" >0.241</td>\n",
       "                        <td id=\"T_5344d3e8_b93d_11ea_91e0_acd1b8a5e586row8_col1\" class=\"data row8 col1\" >0.703</td>\n",
       "                        <td id=\"T_5344d3e8_b93d_11ea_91e0_acd1b8a5e586row8_col2\" class=\"data row8 col2\" >0.246</td>\n",
       "                        <td id=\"T_5344d3e8_b93d_11ea_91e0_acd1b8a5e586row8_col3\" class=\"data row8 col3\" >0.727</td>\n",
       "                        <td id=\"T_5344d3e8_b93d_11ea_91e0_acd1b8a5e586row8_col4\" class=\"data row8 col4\" >0.733</td>\n",
       "                        <td id=\"T_5344d3e8_b93d_11ea_91e0_acd1b8a5e586row8_col5\" class=\"data row8 col5\" >0.739</td>\n",
       "                        <td id=\"T_5344d3e8_b93d_11ea_91e0_acd1b8a5e586row8_col6\" class=\"data row8 col6\" >0.708</td>\n",
       "                        <td id=\"T_5344d3e8_b93d_11ea_91e0_acd1b8a5e586row8_col7\" class=\"data row8 col7\" >0.269</td>\n",
       "                        <td id=\"T_5344d3e8_b93d_11ea_91e0_acd1b8a5e586row8_col8\" class=\"data row8 col8\" >1</td>\n",
       "                        <td id=\"T_5344d3e8_b93d_11ea_91e0_acd1b8a5e586row8_col9\" class=\"data row8 col9\" >0.548</td>\n",
       "            </tr>\n",
       "            <tr>\n",
       "                        <th id=\"T_5344d3e8_b93d_11ea_91e0_acd1b8a5e586level0_row9\" class=\"row_heading level0 row9\" >Fuel_efficiency</th>\n",
       "                        <td id=\"T_5344d3e8_b93d_11ea_91e0_acd1b8a5e586row9_col0\" class=\"data row9 col0\" >0.306</td>\n",
       "                        <td id=\"T_5344d3e8_b93d_11ea_91e0_acd1b8a5e586row9_col1\" class=\"data row9 col1\" >0.343</td>\n",
       "                        <td id=\"T_5344d3e8_b93d_11ea_91e0_acd1b8a5e586row9_col2\" class=\"data row9 col2\" >-0.109</td>\n",
       "                        <td id=\"T_5344d3e8_b93d_11ea_91e0_acd1b8a5e586row9_col3\" class=\"data row9 col3\" >0.51</td>\n",
       "                        <td id=\"T_5344d3e8_b93d_11ea_91e0_acd1b8a5e586row9_col4\" class=\"data row9 col4\" >0.79</td>\n",
       "                        <td id=\"T_5344d3e8_b93d_11ea_91e0_acd1b8a5e586row9_col5\" class=\"data row9 col5\" >0.815</td>\n",
       "                        <td id=\"T_5344d3e8_b93d_11ea_91e0_acd1b8a5e586row9_col6\" class=\"data row9 col6\" >0.779</td>\n",
       "                        <td id=\"T_5344d3e8_b93d_11ea_91e0_acd1b8a5e586row9_col7\" class=\"data row9 col7\" >-0.0566</td>\n",
       "                        <td id=\"T_5344d3e8_b93d_11ea_91e0_acd1b8a5e586row9_col8\" class=\"data row9 col8\" >0.548</td>\n",
       "                        <td id=\"T_5344d3e8_b93d_11ea_91e0_acd1b8a5e586row9_col9\" class=\"data row9 col9\" >1</td>\n",
       "            </tr>\n",
       "    </tbody></table>"
      ],
      "text/plain": [
       "<pandas.io.formats.style.Styler at 0x2330b649c8>"
      ]
     },
     "execution_count": 44,
     "metadata": {},
     "output_type": "execute_result"
    }
   ],
   "source": [
    "pd.set_option(\"precision\",3)\n",
    "corr_data.style.background_gradient(cmap=\"coolwarm\")"
   ]
  },
  {
   "cell_type": "code",
   "execution_count": 45,
   "metadata": {},
   "outputs": [
    {
     "data": {
      "text/plain": [
       "Sales_in_thousands    0\n",
       "Vehicle_type          0\n",
       "Price_in_thousands    0\n",
       "Engine_size           0\n",
       "Horsepower            0\n",
       "Wheelbase             0\n",
       "Width                 0\n",
       "Length                0\n",
       "Curb_weight           0\n",
       "Fuel_capacity         0\n",
       "Fuel_efficiency       0\n",
       "dtype: int64"
      ]
     },
     "execution_count": 45,
     "metadata": {},
     "output_type": "execute_result"
    }
   ],
   "source": [
    "df3.isnull().sum()"
   ]
  },
  {
   "cell_type": "code",
   "execution_count": 46,
   "metadata": {},
   "outputs": [
    {
     "data": {
      "text/plain": [
       "[]"
      ]
     },
     "execution_count": 46,
     "metadata": {},
     "output_type": "execute_result"
    },
    {
     "data": {
      "image/png": "[encoded data removed]",
      "text/plain": [
       "<Figure size 432x288 with 1 Axes>"
      ]
     },
     "metadata": {
      "needs_background": "light"
     },
     "output_type": "display_data"
    }
   ],
   "source": [
    "import seaborn as sns\n",
    "#plt.hist(df3['Sales_in_thousands'], bins=\"auto\")\n",
    "sns.distplot(df3['Sales_in_thousands'], bins=100)\n",
    "plt.plot()"
   ]
  },
  {
   "cell_type": "code",
   "execution_count": 47,
   "metadata": {},
   "outputs": [
    {
     "name": "stderr",
     "output_type": "stream",
     "text": [
      "C:\\ProgramData\\Anaconda3\\lib\\site-packages\\ipykernel_launcher.py:1: SettingWithCopyWarning: \n",
      "A value is trying to be set on a copy of a slice from a DataFrame.\n",
      "Try using .loc[row_indexer,col_indexer] = value instead\n",
      "\n",
      "See the caveats in the documentation: http://pandas.pydata.org/pandas-docs/stable/user_guide/indexing.html#returning-a-view-versus-a-copy\n",
      "  \"\"\"Entry point for launching an IPython kernel.\n",
      "C:\\ProgramData\\Anaconda3\\lib\\site-packages\\ipykernel_launcher.py:2: SettingWithCopyWarning: \n",
      "A value is trying to be set on a copy of a slice from a DataFrame.\n",
      "Try using .loc[row_indexer,col_indexer] = value instead\n",
      "\n",
      "See the caveats in the documentation: http://pandas.pydata.org/pandas-docs/stable/user_guide/indexing.html#returning-a-view-versus-a-copy\n",
      "  \n"
     ]
    }
   ],
   "source": [
    "df3['Sales_log']=np.log1p(df3['Sales_in_thousands'])\n",
    "df3['sqrt_Sales_log']=np.sqrt(np.log1p(df3['Sales_in_thousands']))"
   ]
  },
  {
   "cell_type": "code",
   "execution_count": 48,
   "metadata": {},
   "outputs": [
    {
     "data": {
      "text/plain": [
       "[]"
      ]
     },
     "execution_count": 48,
     "metadata": {},
     "output_type": "execute_result"
    },
    {
     "data": {
      "image/png": "[encoded data removed]",
      "text/plain": [
       "<Figure size 432x288 with 1 Axes>"
      ]
     },
     "metadata": {
      "needs_background": "light"
     },
     "output_type": "display_data"
    }
   ],
   "source": [
    "import seaborn as sns\n",
    "#plt.hist(df3['Sales_in_thousands'], bins=\"auto\")\n",
    "sns.distplot(df3['Sales_log'], bins=100)\n",
    "#plt.plot()\n",
    "#plt.hist(df3['sqrt_Sales_log'], bins=\"auto\")\n",
    "plt.plot()"
   ]
  },
  {
   "cell_type": "code",
   "execution_count": 49,
   "metadata": {},
   "outputs": [
    {
     "data": {
      "text/plain": [
       "Passenger           101\n",
       "Car                  30\n",
       "4.95427989252485     19\n",
       "27.6717262390846      1\n",
       "34.5509197488687      1\n",
       "Name: Vehicle_type, dtype: int64"
      ]
     },
     "execution_count": 49,
     "metadata": {},
     "output_type": "execute_result"
    }
   ],
   "source": [
    "df3[\"Vehicle_type\"].value_counts()"
   ]
  },
  {
   "cell_type": "code",
   "execution_count": 50,
   "metadata": {},
   "outputs": [
    {
     "name": "stderr",
     "output_type": "stream",
     "text": [
      "C:\\ProgramData\\Anaconda3\\lib\\site-packages\\ipykernel_launcher.py:1: SettingWithCopyWarning: \n",
      "A value is trying to be set on a copy of a slice from a DataFrame.\n",
      "Try using .loc[row_indexer,col_indexer] = value instead\n",
      "\n",
      "See the caveats in the documentation: http://pandas.pydata.org/pandas-docs/stable/user_guide/indexing.html#returning-a-view-versus-a-copy\n",
      "  \"\"\"Entry point for launching an IPython kernel.\n"
     ]
    }
   ],
   "source": [
    "df3[\"dummy_vehicle\"]=np.where(df3[\"Vehicle_type\"]==\"Car\",1,0)\n",
    "# df3.drop( columns=[\"Vehicle_type\"], inplace=True)"
   ]
  },
  {
   "cell_type": "code",
   "execution_count": 51,
   "metadata": {},
   "outputs": [
    {
     "data": {
      "text/plain": [
       "0    122\n",
       "1     30\n",
       "Name: dummy_vehicle, dtype: int64"
      ]
     },
     "execution_count": 51,
     "metadata": {},
     "output_type": "execute_result"
    }
   ],
   "source": [
    "df3[\"dummy_vehicle\"].value_counts()"
   ]
  },
  {
   "cell_type": "code",
   "execution_count": 52,
   "metadata": {},
   "outputs": [
    {
     "name": "stderr",
     "output_type": "stream",
     "text": [
      "C:\\ProgramData\\Anaconda3\\lib\\site-packages\\numpy\\core\\fromnumeric.py:2389: FutureWarning: Method .ptp is deprecated and will be removed in a future version. Use numpy.ptp instead.\n",
      "  return ptp(axis=axis, out=out, **kwargs)\n"
     ]
    },
    {
     "name": "stdout",
     "output_type": "stream",
     "text": [
      "                            OLS Regression Results                            \n",
      "==============================================================================\n",
      "Dep. Variable:              Sales_log   R-squared:                       0.514\n",
      "Model:                            OLS   Adj. R-squared:                  0.497\n",
      "Method:                 Least Squares   F-statistic:                     30.89\n",
      "Date:                Sun, 28 Jun 2020   Prob (F-statistic):           2.40e-21\n",
      "Time:                        18:16:15   Log-Likelihood:                -177.05\n",
      "No. Observations:                 152   AIC:                             366.1\n",
      "Df Residuals:                     146   BIC:                             384.2\n",
      "Df Model:                           5                                         \n",
      "Covariance Type:            nonrobust                                         \n",
      "======================================================================================\n",
      "                         coef    std err          t      P>|t|      [0.025      0.975]\n",
      "--------------------------------------------------------------------------------------\n",
      "const                  1.3623      0.237      5.748      0.000       0.894       1.831\n",
      "Price_in_thousands    -0.0637      0.009     -6.980      0.000      -0.082      -0.046\n",
      "Engine_size            0.1126      0.027      4.125      0.000       0.059       0.166\n",
      "Wheelbase              0.0313      0.006      5.228      0.000       0.019       0.043\n",
      "Fuel_efficiency       -0.0057      0.021     -0.272      0.786      -0.047       0.036\n",
      "dummy_vehicle          0.4276      0.210      2.035      0.044       0.012       0.843\n",
      "==============================================================================\n",
      "Omnibus:                       26.703   Durbin-Watson:                   1.654\n",
      "Prob(Omnibus):                  0.000   Jarque-Bera (JB):               43.678\n",
      "Skew:                          -0.875   Prob(JB):                     3.28e-10\n",
      "Kurtosis:                       4.958   Cond. No.                         389.\n",
      "==============================================================================\n",
      "\n",
      "Warnings:\n",
      "[1] Standard Errors assume that the covariance matrix of the errors is correctly specified.\n"
     ]
    }
   ],
   "source": [
    "import statsmodels.api as sm\n",
    "X = df3[['Price_in_thousands',\n",
    "         'Engine_size', \n",
    "#          'Horsepower', \n",
    "         'Wheelbase', \n",
    "#          'Width', \n",
    "#          'Length',\n",
    "#          'Curb_weight',\n",
    "#          'Fuel_capacity',\n",
    "         'Fuel_efficiency',\n",
    "         \"dummy_vehicle\"\n",
    "        ]]\n",
    "Y = df3['Sales_log']\n",
    "# Y=df3[\"Sales_in_thousands\"]\n",
    "\n",
    "X = sm.add_constant(X) # adding a constant\n",
    "\n",
    "model = sm.OLS(Y, X).fit()\n",
    "#predictions = model.predict(X) \n",
    "\n",
    "\n",
    "print(model.summary())"
   ]
  },
  {
   "cell_type": "code",
   "execution_count": 53,
   "metadata": {},
   "outputs": [
    {
     "name": "stderr",
     "output_type": "stream",
     "text": [
      "C:\\ProgramData\\Anaconda3\\lib\\site-packages\\ipykernel_launcher.py:1: SettingWithCopyWarning: \n",
      "A value is trying to be set on a copy of a slice from a DataFrame.\n",
      "Try using .loc[row_indexer,col_indexer] = value instead\n",
      "\n",
      "See the caveats in the documentation: http://pandas.pydata.org/pandas-docs/stable/user_guide/indexing.html#returning-a-view-versus-a-copy\n",
      "  \"\"\"Entry point for launching an IPython kernel.\n"
     ]
    }
   ],
   "source": [
    "df3[\"Pred_Sale\"]=np.exp(model.predict(X))"
   ]
  },
  {
   "cell_type": "code",
   "execution_count": 54,
   "metadata": {},
   "outputs": [],
   "source": [
    "df3.to_excel(\"Df3Predicted.xlsx\")"
   ]
  },
  {
   "cell_type": "code",
   "execution_count": 55,
   "metadata": {},
   "outputs": [
    {
     "data": {
      "text/plain": [
       "4.61512051684126"
      ]
     },
     "execution_count": 55,
     "metadata": {},
     "output_type": "execute_result"
    }
   ],
   "source": [
    "np.log1p(100)"
   ]
  },
  {
   "cell_type": "code",
   "execution_count": 56,
   "metadata": {},
   "outputs": [
    {
     "data": {
      "text/plain": [
       "101.00000000000003"
      ]
     },
     "execution_count": 56,
     "metadata": {},
     "output_type": "execute_result"
    }
   ],
   "source": [
    "np.exp(4.61512051684126) "
   ]
  },
  {
   "cell_type": "code",
   "execution_count": 57,
   "metadata": {},
   "outputs": [],
   "source": [
    "X = df3[['Price_in_thousands',\n",
    "         'Engine_size', \n",
    "         'Horsepower', \n",
    "         'Wheelbase', \n",
    "         'Width', \n",
    "         'Length',\n",
    "         'Curb_weight',\n",
    "         'Fuel_capacity',\n",
    "         'Fuel_efficiency',\n",
    "         \"dummy_vehicle\"\n",
    "        ]]\n",
    "Y = df3['Sales_log']\n"
   ]
  },
  {
   "cell_type": "code",
   "execution_count": 58,
   "metadata": {},
   "outputs": [],
   "source": [
    "from sklearn.model_selection import train_test_split\n",
    "from sklearn.linear_model import LinearRegression "
   ]
  },
  {
   "cell_type": "code",
   "execution_count": 59,
   "metadata": {},
   "outputs": [],
   "source": [
    "xTrain, xTest, yTrain, yTest = train_test_split(X, Y, test_size = .3, random_state = 42)"
   ]
  },
  {
   "cell_type": "code",
   "execution_count": 91,
   "metadata": {},
   "outputs": [],
   "source": [
    "linearRegressor = LinearRegression() "
   ]
  },
  {
   "cell_type": "code",
   "execution_count": 92,
   "metadata": {},
   "outputs": [
    {
     "data": {
      "text/plain": [
       "LinearRegression(copy_X=True, fit_intercept=True, n_jobs=None, normalize=False)"
      ]
     },
     "execution_count": 92,
     "metadata": {},
     "output_type": "execute_result"
    }
   ],
   "source": [
    "linearRegressor.fit(xTrain, yTrain)  # We are training our model"
   ]
  },
  {
   "cell_type": "code",
   "execution_count": 93,
   "metadata": {},
   "outputs": [
    {
     "data": {
      "text/plain": [
       "array([-0.07048606,  0.30494313,  0.00561776,  0.06704264, -0.04393271,\n",
       "       -0.01231077, -0.20767244, -0.02090779,  0.04521811,  0.57567776])"
      ]
     },
     "execution_count": 93,
     "metadata": {},
     "output_type": "execute_result"
    }
   ],
   "source": [
    "linearRegressor.coef_"
   ]
  },
  {
   "cell_type": "code",
   "execution_count": 94,
   "metadata": {},
   "outputs": [
    {
     "data": {
      "text/plain": [
       "Index(['Price_in_thousands', 'Engine_size', 'Horsepower', 'Wheelbase', 'Width',\n",
       "       'Length', 'Curb_weight', 'Fuel_capacity', 'Fuel_efficiency',\n",
       "       'dummy_vehicle'],\n",
       "      dtype='object')"
      ]
     },
     "execution_count": 94,
     "metadata": {},
     "output_type": "execute_result"
    }
   ],
   "source": [
    "X.columns"
   ]
  },
  {
   "cell_type": "code",
   "execution_count": 68,
   "metadata": {},
   "outputs": [
    {
     "data": {
      "text/plain": [
       "1.4143709366577162"
      ]
     },
     "execution_count": 68,
     "metadata": {},
     "output_type": "execute_result"
    }
   ],
   "source": [
    "linearRegressor.intercept_"
   ]
  },
  {
   "cell_type": "code",
   "execution_count": 69,
   "metadata": {},
   "outputs": [
    {
     "data": {
      "text/plain": [
       "{'copy_X': True, 'fit_intercept': True, 'n_jobs': None, 'normalize': False}"
      ]
     },
     "execution_count": 69,
     "metadata": {},
     "output_type": "execute_result"
    }
   ],
   "source": [
    "linearRegressor.get_params()"
   ]
  },
  {
   "cell_type": "code",
   "execution_count": 70,
   "metadata": {},
   "outputs": [],
   "source": [
    "yPrediction = linearRegressor.predict(xTrain)"
   ]
  },
  {
   "cell_type": "code",
   "execution_count": 71,
   "metadata": {},
   "outputs": [
    {
     "data": {
      "text/plain": [
       "array([3.73566354, 1.74884365, 3.77483322, 2.41080745, 1.74884365,\n",
       "       3.38892054, 3.85786594, 2.84842667, 4.09872665, 4.01728668,\n",
       "       3.74696824, 3.38204807, 3.48427224, 2.00903898, 3.62970256,\n",
       "       4.57157398, 4.00453132, 4.26332714, 2.73286469, 4.03151693,\n",
       "       3.80539165, 3.3696053 , 1.74884365, 3.13608748, 3.3531833 ,\n",
       "       3.76134101, 3.21531702, 3.86394183, 2.47215272, 3.4799912 ,\n",
       "       1.74528383, 3.78955358, 2.64328177, 4.12499412, 3.50457775,\n",
       "       4.11727994, 1.59503305, 3.81070287, 3.85280772, 4.11692426,\n",
       "       1.74884365, 3.1317278 , 3.54641172, 3.64180633, 4.33095831,\n",
       "       3.09003045, 3.53726235, 1.74884365, 3.51125485, 4.32757528,\n",
       "       3.78019514, 4.24475059, 3.88548195, 2.04298468, 2.67244755,\n",
       "       3.23807321, 2.96407861, 3.45547803, 3.0614179 , 3.93190829,\n",
       "       1.74884365, 2.88816845, 1.74884365, 3.4197222 , 3.28196778,\n",
       "       3.62670847, 2.64589975, 3.60664009, 1.74884365, 3.75411934,\n",
       "       3.37722007, 1.79662042, 4.11978061, 1.74884365, 3.3692228 ,\n",
       "       2.83538891, 2.44135744, 4.00136521, 1.74884365, 4.04729075,\n",
       "       3.89696055, 1.74884365, 1.74884365, 3.0165813 , 3.1775806 ,\n",
       "       4.25529876, 3.01459024, 3.25800171, 3.282541  , 3.41521524,\n",
       "       3.47692783, 1.74884365, 3.87333113, 4.87860021, 3.61278664,\n",
       "       3.98563162, 3.91182044, 1.74884365, 1.74884365, 2.65069051,\n",
       "       4.04548229, 3.02869237, 3.10133826, 2.81977403, 2.07620536,\n",
       "       3.66753429])"
      ]
     },
     "execution_count": 71,
     "metadata": {},
     "output_type": "execute_result"
    }
   ],
   "source": [
    "yPrediction"
   ]
  },
  {
   "cell_type": "code",
   "execution_count": 72,
   "metadata": {},
   "outputs": [],
   "source": [
    "y_pred_anti=np.exp(yPrediction)\n",
    "y_act_anti=np.exp(yTrain)"
   ]
  },
  {
   "cell_type": "code",
   "execution_count": 73,
   "metadata": {},
   "outputs": [],
   "source": [
    "pred = pd.DataFrame({'Actual Sale': y_act_anti, 'Predicted sales': y_pred_anti})\n",
    "df_pred=pred.head(25)"
   ]
  },
  {
   "cell_type": "code",
   "execution_count": 74,
   "metadata": {},
   "outputs": [],
   "source": [
    "pred.to_excel(\"Pred_train1.xlsx\")"
   ]
  },
  {
   "cell_type": "code",
   "execution_count": 75,
   "metadata": {},
   "outputs": [
    {
     "data": {
      "image/png": "[encoded data removed]",
      "text/plain": [
       "<Figure size 720x576 with 1 Axes>"
      ]
     },
     "metadata": {
      "needs_background": "light"
     },
     "output_type": "display_data"
    }
   ],
   "source": [
    "df_pred.plot(kind='bar',figsize=(10,8))\n",
    "plt.grid(which='major', linestyle='-', linewidth='0.5', color='green')\n",
    "plt.grid(which='minor', linestyle=':', linewidth='0.5', color='black')\n",
    "plt.show()"
   ]
  },
  {
   "cell_type": "code",
   "execution_count": 76,
   "metadata": {},
   "outputs": [
    {
     "name": "stdout",
     "output_type": "stream",
     "text": [
      "Mean Absolute Error: 21.424947866001975\n",
      "Mean Squared Error: 1277.4184119272002\n",
      "Root Mean Squared Error: 35.74099063998087\n"
     ]
    }
   ],
   "source": [
    "from sklearn import metrics\n",
    "print('Mean Absolute Error:', metrics.mean_absolute_error(y_act_anti, y_pred_anti))  \n",
    "print('Mean Squared Error:', metrics.mean_squared_error(y_act_anti, y_pred_anti))  \n",
    "print('Root Mean Squared Error:', np.sqrt(metrics.mean_squared_error(y_act_anti, y_pred_anti)))"
   ]
  },
  {
   "cell_type": "code",
   "execution_count": 77,
   "metadata": {},
   "outputs": [
    {
     "name": "stdout",
     "output_type": "stream",
     "text": [
      "0.5510730739126765 0.5038176080087476\n"
     ]
    }
   ],
   "source": [
    "SS_Residual = sum((yTrain-yPrediction)**2)\n",
    "SS_Total = sum((yTrain-np.mean(yTrain))**2)\n",
    "#r_squared = 1 - (float(SS_Residual))/SS_Total\n",
    "r_squared=(SS_Total-SS_Residual)/SS_Total\n",
    "adjusted_r_squared = 1 - (1-r_squared)*(len(yTrain)-1)/(len(yTrain)-xTrain.shape[1]-1)\n",
    "print (r_squared, adjusted_r_squared)"
   ]
  },
  {
   "cell_type": "code",
   "execution_count": 78,
   "metadata": {},
   "outputs": [
    {
     "name": "stdout",
     "output_type": "stream",
     "text": [
      "[-0.07048606  0.30494313  0.00561776  0.06704264 -0.04393271 -0.01231077\n",
      " -0.20767244 -0.02090779  0.04521811  0.57567776]\n"
     ]
    }
   ],
   "source": [
    " print(linearRegressor.coef_)"
   ]
  },
  {
   "cell_type": "code",
   "execution_count": 79,
   "metadata": {},
   "outputs": [
    {
     "name": "stdout",
     "output_type": "stream",
     "text": [
      "1.4143709366577162\n"
     ]
    }
   ],
   "source": [
    " print(linearRegressor.intercept_)"
   ]
  },
  {
   "cell_type": "code",
   "execution_count": 80,
   "metadata": {},
   "outputs": [],
   "source": [
    "from sklearn.metrics import mean_squared_error, r2_score\n",
    "rmse = mean_squared_error(yTrain, yPrediction)\n",
    "r2 = r2_score(yTrain, yPrediction)"
   ]
  },
  {
   "cell_type": "code",
   "execution_count": 81,
   "metadata": {},
   "outputs": [
    {
     "data": {
      "text/plain": [
       "0.5719826815716939"
      ]
     },
     "execution_count": 81,
     "metadata": {},
     "output_type": "execute_result"
    }
   ],
   "source": [
    "rmse"
   ]
  },
  {
   "cell_type": "code",
   "execution_count": 82,
   "metadata": {},
   "outputs": [
    {
     "data": {
      "text/plain": [
       "0.5510730739126765"
      ]
     },
     "execution_count": 82,
     "metadata": {},
     "output_type": "execute_result"
    }
   ],
   "source": [
    "r2"
   ]
  },
  {
   "cell_type": "code",
   "execution_count": 83,
   "metadata": {},
   "outputs": [],
   "source": [
    "#pd.DataFrame(zip(X.columns,linearRegressor.coef_), columns=[\"Features\", \"Coef\"])"
   ]
  },
  {
   "cell_type": "code",
   "execution_count": 84,
   "metadata": {},
   "outputs": [
    {
     "name": "stdout",
     "output_type": "stream",
     "text": [
      "The coefficient for Price_in_thousands is -0.07048605935265126\n",
      "The coefficient for Engine_size is 0.3049431323959775\n",
      "The coefficient for Horsepower is 0.005617762694235206\n",
      "The coefficient for Wheelbase is 0.06704263788511826\n",
      "The coefficient for Width is -0.04393270912174667\n",
      "The coefficient for Length is -0.012310773091548667\n",
      "The coefficient for Curb_weight is -0.2076724380055283\n",
      "The coefficient for Fuel_capacity is -0.02090778837364297\n",
      "The coefficient for Fuel_efficiency is 0.04521810784386487\n",
      "The coefficient for dummy_vehicle is 0.5756777642720302\n"
     ]
    }
   ],
   "source": [
    "for idx, col_name in enumerate(xTrain.columns):\n",
    "    print(\"The coefficient for {} is {}\".format(col_name, linearRegressor.coef_[idx]))"
   ]
  },
  {
   "cell_type": "code",
   "execution_count": 85,
   "metadata": {},
   "outputs": [
    {
     "name": "stdout",
     "output_type": "stream",
     "text": [
      "Mean Absolute Error: 0.6298914221151583\n",
      "Mean Squared Error: 0.6839145382927841\n",
      "Root Mean Squared Error: 0.8269912564790417\n"
     ]
    }
   ],
   "source": [
    "yPrediction = linearRegressor.predict(xTest)\n",
    "pred = pd.DataFrame({'Actual Sale': yTest, 'Predicted sales': yPrediction})\n",
    "df_pred=pred.head(25)\n",
    "from sklearn import metrics\n",
    "print('Mean Absolute Error:', metrics.mean_absolute_error(yTest, yPrediction))  \n",
    "print('Mean Squared Error:', metrics.mean_squared_error(yTest, yPrediction))  \n",
    "print('Root Mean Squared Error:', np.sqrt(metrics.mean_squared_error(yTest, yPrediction)))"
   ]
  },
  {
   "cell_type": "code",
   "execution_count": 86,
   "metadata": {},
   "outputs": [],
   "source": [
    "from sklearn.metrics import mean_squared_error, r2_score\n",
    "rmse = mean_squared_error(yTest, yPrediction)\n",
    "r2 = r2_score(yTest, yPrediction)"
   ]
  },
  {
   "cell_type": "code",
   "execution_count": 87,
   "metadata": {},
   "outputs": [
    {
     "data": {
      "text/plain": [
       "0.4073915464003556"
      ]
     },
     "execution_count": 87,
     "metadata": {},
     "output_type": "execute_result"
    }
   ],
   "source": [
    "r2"
   ]
  },
  {
   "cell_type": "code",
   "execution_count": 88,
   "metadata": {},
   "outputs": [
    {
     "data": {
      "text/plain": [
       "0.6839145382927841"
      ]
     },
     "execution_count": 88,
     "metadata": {},
     "output_type": "execute_result"
    }
   ],
   "source": [
    "rmse"
   ]
  },
  {
   "cell_type": "code",
   "execution_count": 89,
   "metadata": {},
   "outputs": [
    {
     "name": "stdout",
     "output_type": "stream",
     "text": [
      "[-0.07048606  0.30494313  0.00561776  0.06704264 -0.04393271 -0.01231077\n",
      " -0.20767244 -0.02090779  0.04521811  0.57567776]\n"
     ]
    }
   ],
   "source": [
    "print(linearRegressor.coef_)"
   ]
  },
  {
   "cell_type": "code",
   "execution_count": 90,
   "metadata": {},
   "outputs": [
    {
     "name": "stdout",
     "output_type": "stream",
     "text": [
      "1.4143709366577162\n"
     ]
    }
   ],
   "source": [
    " print(linearRegressor.intercept_)"
   ]
  },
  {
   "cell_type": "code",
   "execution_count": null,
   "metadata": {},
   "outputs": [],
   "source": [
    "# Variable selection :- corr , Var ( Cont - cont - T, z test, cont - cat- ANOVA, \n",
    "#  Cat -cat- Chisquare ), STEPWISE Regression,  VIF, \n",
    "# Advanced techniques - variables selection _rough set theory,  Vriables techniques.\n",
    "# Advanced algorithsm - Random forest, Xgboost etc - Variable importance "
   ]
  },
  {
   "cell_type": "code",
   "execution_count": null,
   "metadata": {},
   "outputs": [],
   "source": [
    "linearRegressor.predict() "
   ]
  },
  {
   "cell_type": "code",
   "execution_count": null,
   "metadata": {},
   "outputs": [],
   "source": []
  },
  {
   "cell_type": "code",
   "execution_count": null,
   "metadata": {},
   "outputs": [],
   "source": []
  }
 ],
 "metadata": {
  "kernelspec": {
   "display_name": "Python 3",
   "language": "python",
   "name": "python3"
  },
  "language_info": {
   "codemirror_mode": {
    "name": "ipython",
    "version": 3
   },
   "file_extension": ".py",
   "mimetype": "text/x-python",
   "name": "python",
   "nbconvert_exporter": "python",
   "pygments_lexer": "ipython3",
   "version": "3.7.4"
  }
 },
 "nbformat": 4,
 "nbformat_minor": 2
}
